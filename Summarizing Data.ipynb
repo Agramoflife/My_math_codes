{
 "cells": [
  {
   "cell_type": "code",
   "execution_count": 5,
   "id": "c7fc1324",
   "metadata": {},
   "outputs": [],
   "source": [
    "# importing important libraries \n",
    "import numpy as np\n",
    "import pandas as pd \n",
    "import seaborn as sns\n",
    "import matplotlib.pyplot as plt"
   ]
  },
  {
   "cell_type": "markdown",
   "id": "bcfd889a",
   "metadata": {},
   "source": [
    "# what is frequency distribution?"
   ]
  },
  {
   "cell_type": "markdown",
   "id": "14fc8148",
   "metadata": {},
   "source": [
    "Frequency distribution as the name suggest can be defined as the distribution of data as per their respective occurence of \n",
    "data .So Frequency distribution is arragnement of data in a tabular for where in one column you arragne the range of data and \n",
    "in the other column you represent the count of the values/frequency of the respective values "
   ]
  },
  {
   "cell_type": "markdown",
   "id": "fd574079",
   "metadata": {},
   "source": [
    "# What is a discrete numerical data and continous numerical data?"
   ]
  },
  {
   "cell_type": "markdown",
   "id": "376651a5",
   "metadata": {},
   "source": [
    "A discreate numerical data is something which are represent in whole/natural numbers like the data of what is the total number \n",
    "of members in a family or what is the no. of boys and girls in the family etc \n",
    "Just like discrete we also have continous numerical data , that are those data which can take integer value like what is the \n",
    "temperature of ladak in the month of July this can take float value or integer like 19.4,12.0 etc"
   ]
  },
  {
   "cell_type": "markdown",
   "id": "a8e39b48",
   "metadata": {},
   "source": [
    "## let's create a dataframe of frequency distribution "
   ]
  },
  {
   "cell_type": "markdown",
   "id": "e3e111a1",
   "metadata": {},
   "source": [
    "let's consider that we surveyed a family of 80 members in our area to find the number of children a family has \n",
    "Lets create a dataframe for the following observation "
   ]
  },
  {
   "cell_type": "code",
   "execution_count": 16,
   "id": "cc693ffb",
   "metadata": {},
   "outputs": [
    {
     "data": {
      "text/html": [
       "<div>\n",
       "<style scoped>\n",
       "    .dataframe tbody tr th:only-of-type {\n",
       "        vertical-align: middle;\n",
       "    }\n",
       "\n",
       "    .dataframe tbody tr th {\n",
       "        vertical-align: top;\n",
       "    }\n",
       "\n",
       "    .dataframe thead th {\n",
       "        text-align: right;\n",
       "    }\n",
       "</style>\n",
       "<table border=\"1\" class=\"dataframe\">\n",
       "  <thead>\n",
       "    <tr style=\"text-align: right;\">\n",
       "      <th></th>\n",
       "      <th>no. of children</th>\n",
       "      <th>no. of families</th>\n",
       "    </tr>\n",
       "  </thead>\n",
       "  <tbody>\n",
       "    <tr>\n",
       "      <th>0</th>\n",
       "      <td>0</td>\n",
       "      <td>8</td>\n",
       "    </tr>\n",
       "    <tr>\n",
       "      <th>1</th>\n",
       "      <td>1</td>\n",
       "      <td>12</td>\n",
       "    </tr>\n",
       "    <tr>\n",
       "      <th>2</th>\n",
       "      <td>2</td>\n",
       "      <td>28</td>\n",
       "    </tr>\n",
       "    <tr>\n",
       "      <th>3</th>\n",
       "      <td>3</td>\n",
       "      <td>19</td>\n",
       "    </tr>\n",
       "    <tr>\n",
       "      <th>4</th>\n",
       "      <td>4</td>\n",
       "      <td>7</td>\n",
       "    </tr>\n",
       "    <tr>\n",
       "      <th>5</th>\n",
       "      <td>5</td>\n",
       "      <td>4</td>\n",
       "    </tr>\n",
       "    <tr>\n",
       "      <th>6</th>\n",
       "      <td>6</td>\n",
       "      <td>1</td>\n",
       "    </tr>\n",
       "    <tr>\n",
       "      <th>7</th>\n",
       "      <td>7</td>\n",
       "      <td>1</td>\n",
       "    </tr>\n",
       "    <tr>\n",
       "      <th>8</th>\n",
       "      <td>8</td>\n",
       "      <td>0</td>\n",
       "    </tr>\n",
       "  </tbody>\n",
       "</table>\n",
       "</div>"
      ],
      "text/plain": [
       "   no. of children  no. of families\n",
       "0                0                8\n",
       "1                1               12\n",
       "2                2               28\n",
       "3                3               19\n",
       "4                4                7\n",
       "5                5                4\n",
       "6                6                1\n",
       "7                7                1\n",
       "8                8                0"
      ]
     },
     "execution_count": 16,
     "metadata": {},
     "output_type": "execute_result"
    }
   ],
   "source": [
    "df = pd.DataFrame({'no. of children':[0,1,2,3,4,5,6,7,8],'no. of families':[8,12,28,19,7,4,1,1,0]})\n",
    "df"
   ]
  },
  {
   "cell_type": "code",
   "execution_count": 26,
   "id": "76df1bec",
   "metadata": {},
   "outputs": [
    {
     "data": {
      "image/png": "[encoded data removed]",
      "text/plain": [
       "<Figure size 432x288 with 1 Axes>"
      ]
     },
     "metadata": {},
     "output_type": "display_data"
    }
   ],
   "source": [
    "sns.set_theme(style = 'whitegrid')\n",
    "ax = sns.barplot(x ='no. of children',y = 'no. of families',data = df)"
   ]
  },
  {
   "cell_type": "markdown",
   "id": "3b4eaf7b",
   "metadata": {},
   "source": [
    "So you must be wondering why this kind of graph , So if you have a frequency distribution data which has a discreate values it \n",
    "is consider best to use bar plot than histogram "
   ]
  },
  {
   "cell_type": "markdown",
   "id": "35eed8ca",
   "metadata": {},
   "source": [
    "What are some conclusions we can draw from the following graphs "
   ]
  },
  {
   "cell_type": "markdown",
   "id": "820e31fc",
   "metadata": {},
   "source": [
    "1.Most of the families have 2 children\n",
    "\n",
    "2.There are very less families with more than 5 childrens\n",
    "\n",
    "3.Majority of families have 2/3 children"
   ]
  },
  {
   "cell_type": "markdown",
   "id": "7ceeb875",
   "metadata": {},
   "source": [
    "In the graph what if you set style = 'darkgrid'"
   ]
  },
  {
   "cell_type": "code",
   "execution_count": 18,
   "id": "5e569499",
   "metadata": {},
   "outputs": [
    {
     "data": {
      "image/png": "[encoded data removed]",
      "text/plain": [
       "<Figure size 432x288 with 1 Axes>"
      ]
     },
     "metadata": {},
     "output_type": "display_data"
    }
   ],
   "source": [
    "sns.set_theme(style = 'darkgrid') # there is also an option to set the them to dark\n",
    "ax = sns.barplot(x = 'no. of children',y = 'no. of families',data = df)"
   ]
  },
  {
   "cell_type": "markdown",
   "id": "ec7bed24",
   "metadata": {},
   "source": [
    "# Grouped Frequency distribution "
   ]
  },
  {
   "cell_type": "markdown",
   "id": "016c0e46",
   "metadata": {},
   "source": [
    "In other words a large set of data is summerize by grouping the data into data interval and then determing how many data point \n",
    "fall within each interval.\n",
    "\n",
    "The frequency of each data interval determines how many data points fall in that interval\n",
    "\n",
    "The intervals are usually equal and non-overlapping"
   ]
  },
  {
   "cell_type": "code",
   "execution_count": 19,
   "id": "7196661c",
   "metadata": {},
   "outputs": [],
   "source": [
    "# Now in the code it they have directly provided us with the frequency but you will have to code it to find the frequency do\n",
    "# do it "
   ]
  },
  {
   "cell_type": "markdown",
   "id": "33ffe2d3",
   "metadata": {},
   "source": [
    "Continuous numerical data can be summarised using a grouped frequency distribution.\n",
    "\n",
    "For example, a sample of 100 claims for damage due to water leakage on an insurance company’s household contents policies might be as follows:\n",
    "\n",
    "243 306 271 396 287 399 466 269 295 330 425 324 228 113 226 176 320 230 404 487 127 74 523 164 366 343 330 436 141 388 293 464 200 392 265 403 372 259 426 262 221 355 324 374 347 261 278 113 135 291 176 342 443 239 302 483 231 292 373 346 293 236 223 371 287 400 314 468 337 308 359 352 273 267 277 184 286 214 351 270 330 238 248 419 330 319 440 427 343 414 291 299 265 318 415 372 238 323 411 494"
   ]
  },
  {
   "cell_type": "code",
   "execution_count": 20,
   "id": "c15596ab",
   "metadata": {},
   "outputs": [
    {
     "data": {
      "text/html": [
       "<div>\n",
       "<style scoped>\n",
       "    .dataframe tbody tr th:only-of-type {\n",
       "        vertical-align: middle;\n",
       "    }\n",
       "\n",
       "    .dataframe tbody tr th {\n",
       "        vertical-align: top;\n",
       "    }\n",
       "\n",
       "    .dataframe thead th {\n",
       "        text-align: right;\n",
       "    }\n",
       "</style>\n",
       "<table border=\"1\" class=\"dataframe\">\n",
       "  <thead>\n",
       "    <tr style=\"text-align: right;\">\n",
       "      <th></th>\n",
       "      <th>group</th>\n",
       "      <th>frequency</th>\n",
       "    </tr>\n",
       "  </thead>\n",
       "  <tbody>\n",
       "    <tr>\n",
       "      <th>0</th>\n",
       "      <td>50-100</td>\n",
       "      <td>2</td>\n",
       "    </tr>\n",
       "    <tr>\n",
       "      <th>1</th>\n",
       "      <td>100-150</td>\n",
       "      <td>5</td>\n",
       "    </tr>\n",
       "    <tr>\n",
       "      <th>2</th>\n",
       "      <td>150-200</td>\n",
       "      <td>4</td>\n",
       "    </tr>\n",
       "    <tr>\n",
       "      <th>3</th>\n",
       "      <td>200-250</td>\n",
       "      <td>14</td>\n",
       "    </tr>\n",
       "    <tr>\n",
       "      <th>4</th>\n",
       "      <td>250-300</td>\n",
       "      <td>21</td>\n",
       "    </tr>\n",
       "    <tr>\n",
       "      <th>5</th>\n",
       "      <td>300-350</td>\n",
       "      <td>20</td>\n",
       "    </tr>\n",
       "    <tr>\n",
       "      <th>6</th>\n",
       "      <td>350-400</td>\n",
       "      <td>14</td>\n",
       "    </tr>\n",
       "    <tr>\n",
       "      <th>7</th>\n",
       "      <td>400-450</td>\n",
       "      <td>13</td>\n",
       "    </tr>\n",
       "    <tr>\n",
       "      <th>8</th>\n",
       "      <td>450-500</td>\n",
       "      <td>6</td>\n",
       "    </tr>\n",
       "    <tr>\n",
       "      <th>9</th>\n",
       "      <td>500-550</td>\n",
       "      <td>1</td>\n",
       "    </tr>\n",
       "  </tbody>\n",
       "</table>\n",
       "</div>"
      ],
      "text/plain": [
       "     group  frequency\n",
       "0   50-100          2\n",
       "1  100-150          5\n",
       "2  150-200          4\n",
       "3  200-250         14\n",
       "4  250-300         21\n",
       "5  300-350         20\n",
       "6  350-400         14\n",
       "7  400-450         13\n",
       "8  450-500          6\n",
       "9  500-550          1"
      ]
     },
     "metadata": {},
     "output_type": "display_data"
    }
   ],
   "source": [
    "claims_df = pd.DataFrame({'group':['50-100', '100-150', '150-200', '200-250', '250-300', '300-350', '350-400', '400-450', '450-500', '500-550'],'frequency':[2, 5, 4, 14, 21, 20, 14, 13, 6, 1]})\n",
    "display(claims_df)"
   ]
  },
  {
   "cell_type": "markdown",
   "id": "17a69aea",
   "metadata": {},
   "source": [
    "This is something which we have manually entered the frequency, there are other ways where you would have to either code it or \n",
    "use the library, If you are using the library then np.histogram method can be used "
   ]
  },
  {
   "cell_type": "markdown",
   "id": "5bfa1598",
   "metadata": {},
   "source": [
    "## np.histogram is a method in numpy which returns two valus one is frequency and other is bins( range like 50 - 100)"
   ]
  },
  {
   "cell_type": "code",
   "execution_count": 21,
   "id": "dd533af9",
   "metadata": {},
   "outputs": [],
   "source": [
    "claims_list = [243,306,271,396,287,399,466,269,295,330,425,324,228,113,226,176,320,230,404,487,127,74,523,164,366,343,330,436,141,388,293,464,200,392,265,403,372,259,426,262,221,355,324,374,347,261,278,113,135,291,176,342,443,239,302,483,231,292,373,346,93,236,223,371,287,400,314,468,337,308,359,352,273,267,277,184,286,214,351,270,330,238,248,419,330,319,440,427,343,414,291,299,265,318,415,372,238,323,411,494]"
   ]
  },
  {
   "cell_type": "code",
   "execution_count": 22,
   "id": "5ef96588",
   "metadata": {},
   "outputs": [
    {
     "data": {
      "text/plain": [
       "(array([ 2,  5,  4, 14, 21, 20, 14, 13,  6,  1], dtype=int64),\n",
       " array([ 50., 100., 150., 200., 250., 300., 350., 400., 450., 500., 550.]))"
      ]
     },
     "execution_count": 22,
     "metadata": {},
     "output_type": "execute_result"
    }
   ],
   "source": [
    "np.histogram(claims_list, bins = 10, range = [50,550])"
   ]
  },
  {
   "cell_type": "markdown",
   "id": "f4a04094",
   "metadata": {},
   "source": [
    "lets assigne two variables to strore the 2 returns "
   ]
  },
  {
   "cell_type": "code",
   "execution_count": 23,
   "id": "c28f4773",
   "metadata": {},
   "outputs": [
    {
     "name": "stdout",
     "output_type": "stream",
     "text": [
      "[ 2  5  4 14 21 20 14 13  6  1]\n",
      "[ 50. 100. 150. 200. 250. 300. 350. 400. 450. 500. 550.]\n"
     ]
    }
   ],
   "source": [
    "frequency, bins = np.histogram(claims_list, bins = 10, range = [50,550])\n",
    "print(frequency)\n",
    "print(bins)"
   ]
  },
  {
   "cell_type": "code",
   "execution_count": 53,
   "id": "55e11ea1",
   "metadata": {},
   "outputs": [
    {
     "data": {
      "image/png": "[encoded data removed]",
      "text/plain": [
       "<Figure size 432x288 with 1 Axes>"
      ]
     },
     "metadata": {},
     "output_type": "display_data"
    }
   ],
   "source": [
    "plt.hist(claims_list,bins = 10, range = [50,550])\n",
    "plt.gca().set(title = 'frequency histogram',xlabel = 'claims', ylabel = 'frequency')\n",
    "plt.show()"
   ]
  },
  {
   "cell_type": "markdown",
   "id": "1f9953be",
   "metadata": {},
   "source": [
    "You might be wondering what is this plt.gca().set(title='Frequency Histogram', xlabel='Claims', ylabel='Frequency')\n",
    "\n",
    "Well to answer that it is not the right time\n",
    "\n",
    "we will have to understand the behind the scene of ploting of a graph "
   ]
  },
  {
   "cell_type": "code",
   "execution_count": 50,
   "id": "ddd6d1f6",
   "metadata": {},
   "outputs": [
    {
     "data": {
      "text/plain": [
       "(array([ 2.,  5.,  4., 14., 21., 20., 14., 13.,  6.,  1.]),\n",
       " array([ 50., 100., 150., 200., 250., 300., 350., 400., 450., 500., 550.]),\n",
       " <BarContainer object of 10 artists>)"
      ]
     },
     "execution_count": 50,
     "metadata": {},
     "output_type": "execute_result"
    },
    {
     "data": {
      "image/png": "[encoded data removed]",
      "text/plain": [
       "<Figure size 432x288 with 1 Axes>"
      ]
     },
     "metadata": {},
     "output_type": "display_data"
    }
   ],
   "source": [
    "plt.hist(claims_list, bins=10, range=[50, 550])\n",
    "#plt.gca().set(title='Frequency Histogram', xlabel='Claims', ylabel='Frequency'); # ina a gist for now consider it as - \n",
    "#this line of code is used to call the chart .set is used to label the x,y axis and title of the graph\n",
    "#plt.show()"
   ]
  },
  {
   "cell_type": "markdown",
   "id": "fa214a04",
   "metadata": {},
   "source": [
    "# How excatly are plots being creted in these libraries here is a step by step process which are running behind the scene"
   ]
  },
  {
   "cell_type": "markdown",
   "id": "b08e7caa",
   "metadata": {},
   "source": [
    "First, you need to import the matplotlib.pyplot module. This module provides a set of functions for creating and customizing plots. You can import it like this:"
   ]
  },
  {
   "cell_type": "code",
   "execution_count": 3,
   "id": "7495e541",
   "metadata": {},
   "outputs": [],
   "source": [
    "import matplotlib.pyplot as plt"
   ]
  },
  {
   "cell_type": "markdown",
   "id": "ecd2bcaa",
   "metadata": {},
   "source": [
    "Next, you need to create a Figure object. This object represents the blank canvas on which you will create your plot. You can create a Figure object using the plt.figure() function:"
   ]
  },
  {
   "cell_type": "code",
   "execution_count": null,
   "id": "44950787",
   "metadata": {},
   "outputs": [],
   "source": [
    "DO the oops way of programming "
   ]
  },
  {
   "cell_type": "code",
   "execution_count": 5,
   "id": "518a150c",
   "metadata": {},
   "outputs": [
    {
     "data": {
      "text/plain": [
       "<AxesSubplot:>"
      ]
     },
     "execution_count": 5,
     "metadata": {},
     "output_type": "execute_result"
    },
    {
     "data": {
      "image/png": "[encoded data removed]",
      "text/plain": [
       "<Figure size 432x288 with 1 Axes>"
      ]
     },
     "metadata": {
      "needs_background": "light"
     },
     "output_type": "display_data"
    }
   ],
   "source": [
    "fig = plt.figure() # creating canvas here \n",
    "plt.gca() # you are calling the chart here "
   ]
  },
  {
   "cell_type": "markdown",
   "id": "0273ae0a",
   "metadata": {},
   "source": [
    "Once you have a Figure object, you can add an Axes object to it. An Axes object represents a single plot within the figure. You can add an Axes object to the figure using the add_subplot() method of the Figure object:"
   ]
  },
  {
   "cell_type": "code",
   "execution_count": 7,
   "id": "9ce33d74",
   "metadata": {},
   "outputs": [],
   "source": [
    "ax = fig.add_subplot(1, 1, 1) # you have created an axes now \n",
    "# consider plt.figure as taking a canvas sheet\n",
    "# consdier fig.add_subplot() as creating area to draw a graph you can draw may graphs in same canvas similarly within on figure\n",
    "# you can divide the figure with fig.add_subplot()"
   ]
  },
  {
   "cell_type": "markdown",
   "id": "80e5428c",
   "metadata": {},
   "source": [
    "Now that you have an Axes object, you can plot your data on it. There are many different plotting functions available, such as plot() for creating line plots, scatter() for creating scatter plots, and bar() for creating bar plots. In this example, we’ll use the plot() function to create a simple line plot:"
   ]
  },
  {
   "cell_type": "code",
   "execution_count": 15,
   "id": "c7f9d49d",
   "metadata": {},
   "outputs": [
    {
     "data": {
      "text/plain": [
       "[<matplotlib.lines.Line2D at 0x226ba385340>]"
      ]
     },
     "execution_count": 15,
     "metadata": {},
     "output_type": "execute_result"
    }
   ],
   "source": [
    "ax.plot([1, 2, 3], [4, 5, 6])\n"
   ]
  },
  {
   "cell_type": "markdown",
   "id": "6550482f",
   "metadata": {},
   "source": [
    "Finally, you can display the figure using the plt.show() function. This will open a window showing the figure with your plot:"
   ]
  },
  {
   "cell_type": "code",
   "execution_count": 9,
   "id": "919ee542",
   "metadata": {},
   "outputs": [],
   "source": [
    "plt.show()"
   ]
  },
  {
   "cell_type": "code",
   "execution_count": 46,
   "id": "4a8e688f",
   "metadata": {},
   "outputs": [
    {
     "data": {
      "image/png": "[encoded data removed]",
      "text/plain": [
       "<Figure size 432x288 with 1 Axes>"
      ]
     },
     "metadata": {},
     "output_type": "display_data"
    }
   ],
   "source": [
    "# Create a Figure object\n",
    "fig = plt.figure()\n",
    "\n",
    "# Add an Axes object to the Figure\n",
    "ax = fig.add_subplot(1, 1, 1)\n",
    "\n",
    "# Plot data on the Axes\n",
    "ax.plot([1, 2, 3], [4, 5, 6])\n",
    "\n",
    "# Show the figure\n",
    "plt.show()"
   ]
  },
  {
   "cell_type": "markdown",
   "id": "0c6051b4",
   "metadata": {},
   "source": [
    "when you create a plot using matplotlib, you first create a blank canvas called a Figure. Then, you add one or more charts or graphs to the figure. **Each chart or graph is called an Axes.**\n",
    "\n",
    "**An Axes has its own set of horizontal and vertical lines, called the x-axis and y-axis.** These lines are used to plot the data. For example, if you were creating a line plot of a plant’s growth over time, the x-axis might represent time and the y-axis might represent the height of the plant.\n",
    "\n",
    "You can customize the appearance of the plot by changing various properties of the Axes object. For example, you can add labels to the x-axis and y-axis to describe what they represent by simply doing ax.set_xlabel etc."
   ]
  },
  {
   "cell_type": "markdown",
   "id": "e1353e83",
   "metadata": {},
   "source": [
    "Not just that we can also have two charts on the same canvas i.e two axes on the same cavas and each axes will have its own\n",
    "x-axis, y-axis "
   ]
  },
  {
   "cell_type": "code",
   "execution_count": 19,
   "id": "e2af6749",
   "metadata": {
    "scrolled": true
   },
   "outputs": [
    {
     "data": {
      "image/png": "[encoded data removed]",
      "text/plain": [
       "<Figure size 432x288 with 2 Axes>"
      ]
     },
     "metadata": {
      "needs_background": "light"
     },
     "output_type": "display_data"
    }
   ],
   "source": [
    "import matplotlib.pyplot as plt\n",
    "\n",
    "# Create a Figure object\n",
    "fig = plt.figure()\n",
    "\n",
    "# Add two Axes objects to the Figure\n",
    "ax1 = fig.add_subplot(1, 2, 1) # first plot - cross check the argument for this \n",
    "ax2 = fig.add_subplot(1, 2, 2) # second plot\n",
    "\n",
    "# Plot data on the first Axes\n",
    "ax1.plot([1, 2, 3], [4, 5, 6])\n",
    "\n",
    "# Plot data on the second Axes\n",
    "ax2.scatter([1, 2, 3], [4, 5, 6])\n",
    "# Show the figure\n",
    "plt.show()"
   ]
  },
  {
   "cell_type": "code",
   "execution_count": null,
   "id": "ca64e392",
   "metadata": {},
   "outputs": [],
   "source": []
  },
  {
   "cell_type": "markdown",
   "id": "3440611f",
   "metadata": {},
   "source": [
    "## Now is the right time to question what does plt.gca() do "
   ]
  },
  {
   "cell_type": "markdown",
   "id": "1ede95d0",
   "metadata": {},
   "source": [
    "plt.gca() is a function in the matplotlib.pyplot module that returns the current Axes instance on the current figure. If there is currently no Axes on this Figure, a new one is created using Figure.add_subplot1. This function does not accept any arguments."
   ]
  },
  {
   "cell_type": "markdown",
   "id": "d404c3de",
   "metadata": {},
   "source": [
    "Here consider the axes as chart or fig and the componets of chart to be x axis , y axis and title , when you are doing the \n",
    "plt.gca() you are basically calling the chart "
   ]
  },
  {
   "cell_type": "code",
   "execution_count": 55,
   "id": "a33b864a",
   "metadata": {},
   "outputs": [
    {
     "data": {
      "text/plain": [
       "<AxesSubplot:>"
      ]
     },
     "execution_count": 55,
     "metadata": {},
     "output_type": "execute_result"
    },
    {
     "data": {
      "image/png": "[encoded data removed]",
      "text/plain": [
       "<Figure size 432x288 with 1 Axes>"
      ]
     },
     "metadata": {},
     "output_type": "display_data"
    }
   ],
   "source": [
    "fig = plt.figure()\n",
    "plt.gca() # you are calling the chart here "
   ]
  },
  {
   "cell_type": "code",
   "execution_count": 63,
   "id": "e65f5102",
   "metadata": {},
   "outputs": [
    {
     "data": {
      "image/png": "[encoded data removed]",
      "text/plain": [
       "<Figure size 432x288 with 1 Axes>"
      ]
     },
     "metadata": {},
     "output_type": "display_data"
    }
   ],
   "source": [
    "# Create some data\n",
    "x = [1, 2, 3]\n",
    "y = [4, 5, 6]\n",
    "\n",
    "# Create a line plot\n",
    "plt.plot(x, y)\n",
    "\n",
    "# Get the current Axes instance\n",
    "ax = plt.gca()\n",
    "\n",
    "\n",
    "# Set the title of the Axes\n",
    "ax.set_title('My Plot')\n",
    "\n",
    "# Show the plot\n",
    "plt.show()"
   ]
  },
  {
   "cell_type": "markdown",
   "id": "9fbffa1f",
   "metadata": {},
   "source": [
    "**what is an instance of axes?**\n",
    "\n",
    "In matplotlib, an instance of Axes refers to a single plot within a Figure. It contains all the elements of the plot, such as the lines, markers, and text. An Axes object also has its own set of axes (x-axis and y-axis), which are used to plot the data.\n",
    "\n",
    "When you create a plot using matplotlib, you first create a Figure object, which is like an empty canvas. Then, you add one or more Axes objects to the figure, which represent the individual plots. Each Axes object has its own set of properties and methods that you can use to customize the appearance of the plot.\n",
    "\n",
    "For example, you can use the set_title() method to set the title of the plot, or the set_xlabel() and set_ylabel() methods to set the labels of the x-axis and y-axis. You can also use various plotting functions, such as plot() and scatter(), to plot your data on the Axes."
   ]
  },
  {
   "cell_type": "markdown",
   "id": "30631440",
   "metadata": {},
   "source": [
    "## let's get back to the topic"
   ]
  },
  {
   "cell_type": "markdown",
   "id": "178a2eb5",
   "metadata": {},
   "source": [
    "# Measures of Central Tendency\n"
   ]
  },
  {
   "cell_type": "markdown",
   "id": "862c5b36",
   "metadata": {},
   "source": [
    "Mean meadian mode, variance , standard deviation are called central tendency they are single numbers which gives us the idea of \n",
    "the kind of distribution of data points in the data"
   ]
  },
  {
   "cell_type": "markdown",
   "id": "eec1fb6c",
   "metadata": {},
   "source": [
    "## Mean"
   ]
  },
  {
   "cell_type": "markdown",
   "id": "b776bb49",
   "metadata": {},
   "source": [
    "The number of children under 16 years in a sample of 20 families :\n",
    "\n",
    "[2 , 3 , 2 , 2 , 2 , 0 , 0 , 1 , 1, 4, 3, 2, 8, 5, 6, 7 , 4, 15 , 2, 2]\n",
    "\n",
    "1) What is the mean number of children in the family?\n",
    "\n",
    "2) Is there any suspicious element in data?"
   ]
  },
  {
   "cell_type": "code",
   "execution_count": 67,
   "id": "300d68ee",
   "metadata": {},
   "outputs": [],
   "source": [
    "no_of_children = np.array([2 , 3 , 2 , 2 , 2 , 0 , 0 , 1 , 1, 4, 3, 2, 8, 5, 6, 7 , 4, 15 , 2, 2])"
   ]
  },
  {
   "cell_type": "code",
   "execution_count": 71,
   "id": "16035a5b",
   "metadata": {},
   "outputs": [
    {
     "name": "stdout",
     "output_type": "stream",
     "text": [
      "3.55\n"
     ]
    }
   ],
   "source": [
    "# the inefficient and classical method \n",
    "sum = 0\n",
    "for i in no_of_children:\n",
    "    #summing element by element and reassigning the sum variable in every iteration\n",
    "    sum += i # this is same as sum = sum + i\n",
    "\n",
    "mean = sum/len(no_of_children)\n",
    "print(mean)"
   ]
  },
  {
   "cell_type": "code",
   "execution_count": 75,
   "id": "220db79a",
   "metadata": {},
   "outputs": [
    {
     "name": "stdout",
     "output_type": "stream",
     "text": [
      "3.55\n"
     ]
    }
   ],
   "source": [
    "#Formula 1\n",
    "sum = np.sum(no_of_children)\n",
    "n = no_of_children.size # you can also use len(no_of_chidren)\n",
    "mean_val_1 = sum/n\n",
    "print(mean_val_1)"
   ]
  },
  {
   "cell_type": "code",
   "execution_count": 76,
   "id": "a1843fb4",
   "metadata": {},
   "outputs": [
    {
     "data": {
      "text/plain": [
       "(array([ 0,  1,  2,  3,  4,  5,  6,  7,  8, 15]),\n",
       " array([2, 2, 7, 2, 2, 1, 1, 1, 1, 1], dtype=int64))"
      ]
     },
     "execution_count": 76,
     "metadata": {},
     "output_type": "execute_result"
    }
   ],
   "source": [
    "# different approach fromula 2\n",
    "np.unique(no_of_children,return_counts = True)"
   ]
  },
  {
   "cell_type": "markdown",
   "id": "851e5da8",
   "metadata": {},
   "source": [
    "Here in the above code we again have multiple return hence let'a assigne two variable"
   ]
  },
  {
   "cell_type": "code",
   "execution_count": 85,
   "id": "c2b83f32",
   "metadata": {},
   "outputs": [
    {
     "name": "stdout",
     "output_type": "stream",
     "text": [
      "[ 0  1  2  3  4  5  6  7  8 15]\n",
      "[2 2 7 2 2 1 1 1 1 1]\n"
     ]
    }
   ],
   "source": [
    "unique_elements,freq = np.unique(no_of_children, return_counts = True)\n",
    "print(unique_elements)\n",
    "print(freq)"
   ]
  },
  {
   "cell_type": "code",
   "execution_count": 94,
   "id": "01b07324",
   "metadata": {},
   "outputs": [
    {
     "name": "stdout",
     "output_type": "stream",
     "text": [
      "3.55\n"
     ]
    }
   ],
   "source": [
    "n = np.sum(freq)\n",
    "product_array=freq*unique_elements\n",
    "mean_val_2 = np.sum(product_array)/n\n",
    "print(mean_val_2)"
   ]
  },
  {
   "cell_type": "code",
   "execution_count": 97,
   "id": "d8f170c4",
   "metadata": {},
   "outputs": [
    {
     "data": {
      "text/plain": [
       "3.55"
      ]
     },
     "execution_count": 97,
     "metadata": {},
     "output_type": "execute_result"
    }
   ],
   "source": [
    "#direct method using numpy\n",
    "np.mean(no_of_children)"
   ]
  },
  {
   "cell_type": "markdown",
   "id": "ffaaa2d8",
   "metadata": {},
   "source": [
    "The mean no. of children is 3.55 and using the np.unique(array,return_counts = True) tells us that there is a zero value in the \n",
    "data which means there are families with no child"
   ]
  },
  {
   "cell_type": "markdown",
   "id": "745f73db",
   "metadata": {},
   "source": [
    "## Median"
   ]
  },
  {
   "cell_type": "markdown",
   "id": "39719a9e",
   "metadata": {},
   "source": [
    "This is basically the value present in the middle of the data"
   ]
  },
  {
   "cell_type": "markdown",
   "id": "d2956637",
   "metadata": {},
   "source": [
    "The ages of seven policyholders in a portfolio of insurance policies are as follows:\n",
    "\n",
    "39 34 26 41 70 34 28\n",
    "\n",
    "(i) Find the median age of the policyholders in this portfolio.\n",
    "\n",
    "(ii) Another policyholder aged 41 years is added to the portfolio. Find the median age of policyholders in the portfolio.\n",
    "\n",
    "(iii) Why would the mean be a poor measure of central tendency for these data?"
   ]
  },
  {
   "cell_type": "code",
   "execution_count": 25,
   "id": "d9bda9b0",
   "metadata": {},
   "outputs": [],
   "source": [
    "policy_holders = np.array([39,34,26,41,70,34,28])"
   ]
  },
  {
   "cell_type": "code",
   "execution_count": 3,
   "id": "0b5c125a",
   "metadata": {},
   "outputs": [
    {
     "data": {
      "text/plain": [
       "array([26, 28, 34, 34, 39, 41, 70])"
      ]
     },
     "execution_count": 3,
     "metadata": {},
     "output_type": "execute_result"
    }
   ],
   "source": [
    "# classical method and algo_poor code \n",
    "policy_holders.sort()\n",
    "policy_holders"
   ]
  },
  {
   "cell_type": "code",
   "execution_count": 15,
   "id": "798a5cfb",
   "metadata": {},
   "outputs": [
    {
     "name": "stdout",
     "output_type": "stream",
     "text": [
      "34\n"
     ]
    }
   ],
   "source": [
    "for i in policy_holders:\n",
    "    if policy_holders.size%2 != 0:\n",
    "        median = policy_holders[int(policy_holders.size/2)]\n",
    "    else:\n",
    "        median = (policy_holders[(int(policy_holders.size/2)-1)] + policy_holders[(int(policy_holders.size/2))])/2\n",
    "print(median)        "
   ]
  },
  {
   "cell_type": "code",
   "execution_count": 13,
   "id": "bc28add1",
   "metadata": {},
   "outputs": [
    {
     "data": {
      "text/plain": [
       "34.0"
      ]
     },
     "execution_count": 13,
     "metadata": {},
     "output_type": "execute_result"
    }
   ],
   "source": [
    "np.median(policy_holders)"
   ]
  },
  {
   "cell_type": "markdown",
   "id": "66bfcdba",
   "metadata": {},
   "source": [
    "lets break down into steps "
   ]
  },
  {
   "cell_type": "code",
   "execution_count": 18,
   "id": "7cbd957d",
   "metadata": {},
   "outputs": [
    {
     "name": "stdout",
     "output_type": "stream",
     "text": [
      "[26 28 34 34 39 41 70]\n"
     ]
    }
   ],
   "source": [
    "# step 1 sorting the data \n",
    "policy_holders_sort = np.sort(policy_holders)\n",
    "print(policy_holders)"
   ]
  },
  {
   "cell_type": "code",
   "execution_count": 20,
   "id": "b548eee8",
   "metadata": {},
   "outputs": [
    {
     "name": "stdout",
     "output_type": "stream",
     "text": [
      "7\n",
      "7\n"
     ]
    }
   ],
   "source": [
    "# step 2 check for n is odd or even \n",
    "n = policy_holders_sort.size\n",
    "print(n) # odd\n",
    "#You can do this as well\n",
    "n1 = len(policy_holders_sort)\n",
    "print(n1)"
   ]
  },
  {
   "cell_type": "code",
   "execution_count": 21,
   "id": "cce43a02",
   "metadata": {},
   "outputs": [
    {
     "name": "stdout",
     "output_type": "stream",
     "text": [
      "4.0\n"
     ]
    }
   ],
   "source": [
    "# step 3 - find the (n+1)/2 th element\n",
    "median_position = (n+1)/2\n",
    "print(median_position)"
   ]
  },
  {
   "cell_type": "code",
   "execution_count": 23,
   "id": "603d26da",
   "metadata": {},
   "outputs": [
    {
     "name": "stdout",
     "output_type": "stream",
     "text": [
      "Median is : 34\n"
     ]
    }
   ],
   "source": [
    "median = policy_holders_sort[int(median_position)-1]\n",
    "print('Median is :',median)"
   ]
  },
  {
   "cell_type": "code",
   "execution_count": 24,
   "id": "2acf3a22",
   "metadata": {},
   "outputs": [],
   "source": [
    "#part(ii)"
   ]
  },
  {
   "cell_type": "code",
   "execution_count": 26,
   "id": "05f8e040",
   "metadata": {},
   "outputs": [
    {
     "name": "stdout",
     "output_type": "stream",
     "text": [
      "[39 34 26 41 70 34 28 41]\n"
     ]
    }
   ],
   "source": [
    "policy_holders = np.append(policy_holders,41)\n",
    "print(policy_holders)"
   ]
  },
  {
   "cell_type": "code",
   "execution_count": 30,
   "id": "dd93408b",
   "metadata": {},
   "outputs": [
    {
     "name": "stdout",
     "output_type": "stream",
     "text": [
      "[26 28 34 34 39 41 41 70]\n",
      "8\n"
     ]
    }
   ],
   "source": [
    "policy_holders_sort = np.sort(policy_holders)\n",
    "print(policy_holders_sort)\n",
    "n = policy_holders_sort.size\n",
    "print(n) # even "
   ]
  },
  {
   "cell_type": "code",
   "execution_count": 31,
   "id": "f18c0671",
   "metadata": {},
   "outputs": [],
   "source": [
    "first_median_position = int(n/2)\n",
    "second_median_position = int((n/2)+1)"
   ]
  },
  {
   "cell_type": "code",
   "execution_count": 33,
   "id": "4c132e85",
   "metadata": {},
   "outputs": [
    {
     "name": "stdout",
     "output_type": "stream",
     "text": [
      "36.5\n"
     ]
    }
   ],
   "source": [
    "median_point1 = policy_holders_sort[first_median_position -1]\n",
    "median_point2 = policy_holders_sort[second_median_position -1]\n",
    "median = (median_point1 + median_point2)/2\n",
    "print(median)"
   ]
  },
  {
   "cell_type": "code",
   "execution_count": 34,
   "id": "5a82dc22",
   "metadata": {},
   "outputs": [
    {
     "data": {
      "text/plain": [
       "36.5"
      ]
     },
     "execution_count": 34,
     "metadata": {},
     "output_type": "execute_result"
    }
   ],
   "source": [
    "np.median(policy_holders)"
   ]
  },
  {
   "cell_type": "markdown",
   "id": "4df91806",
   "metadata": {},
   "source": [
    "## Mode "
   ]
  },
  {
   "cell_type": "markdown",
   "id": "5a217fd6",
   "metadata": {},
   "source": [
    "the most reoccuring value in your data is mode suppose you have data where 75 is being repeated many times then 75 is the mode"
   ]
  },
  {
   "cell_type": "markdown",
   "id": "ce488190",
   "metadata": {},
   "source": [
    "The number of children under 16 years in a sample of 20 families :\n",
    "\n",
    "[2 , 3 , 2 , 2 , 2 , 0 , 0 , 1 , 1, 4, 3, 2, 8, 5, 6, 7 , 4, 15 , 2, 2]\n",
    "\n",
    "What is the mode of this data?"
   ]
  },
  {
   "cell_type": "code",
   "execution_count": 36,
   "id": "d2de0295",
   "metadata": {},
   "outputs": [],
   "source": [
    "no_of_children = [2 , 3 , 2 , 2 , 2 , 0 , 0 , 1 , 1, 4, 3, 2, 8, 5, 6, 7 , 4, 15 , 2, 2]"
   ]
  },
  {
   "cell_type": "markdown",
   "id": "b9deb760",
   "metadata": {},
   "source": [
    "Here is what we are going to do we will create dictonary where key will be datapoint and value will be its frequency \n",
    "\n",
    "we will sort the values part and take the last element \n",
    "\n",
    "we will run a loop to check for the last element of the values and get it respective key value"
   ]
  },
  {
   "cell_type": "code",
   "execution_count": 37,
   "id": "30cfc3e4",
   "metadata": {},
   "outputs": [
    {
     "name": "stdout",
     "output_type": "stream",
     "text": [
      "{2: 7, 3: 2, 0: 2, 1: 2, 4: 2, 8: 1, 5: 1, 6: 1, 7: 1, 15: 1}\n"
     ]
    }
   ],
   "source": [
    "dic = {}\n",
    "for i in no_of_children:\n",
    "    if i in dic:\n",
    "        dic[i] = dic[i] + 1\n",
    "        \n",
    "    else:\n",
    "        dic[i] = 1\n",
    "print(dic)        "
   ]
  },
  {
   "cell_type": "code",
   "execution_count": 45,
   "id": "2091cfce",
   "metadata": {},
   "outputs": [
    {
     "data": {
      "text/plain": [
       "7"
      ]
     },
     "execution_count": 45,
     "metadata": {},
     "output_type": "execute_result"
    }
   ],
   "source": [
    "sorted(list(dic.values()))[-1]"
   ]
  },
  {
   "cell_type": "code",
   "execution_count": 52,
   "id": "8973bbbd",
   "metadata": {},
   "outputs": [
    {
     "name": "stdout",
     "output_type": "stream",
     "text": [
      "The most reoccurring no. is 2\n"
     ]
    }
   ],
   "source": [
    "for k,v in dic.items():\n",
    "    if v == 7:\n",
    "        print('The most reoccurring no. is',k)\n",
    "        "
   ]
  },
  {
   "cell_type": "code",
   "execution_count": 53,
   "id": "5a852a31",
   "metadata": {},
   "outputs": [
    {
     "name": "stdout",
     "output_type": "stream",
     "text": [
      "The mode of data is : 2\n"
     ]
    }
   ],
   "source": [
    "# lets combine it together \n",
    "\n",
    "# create a dictonary of datapoint and frequency \n",
    "dic = {}\n",
    "for i in no_of_children:\n",
    "    if i in dic:\n",
    "        dic[i] += 1\n",
    "    else:\n",
    "        dic[i] = 1\n",
    "\n",
    "for k,v in dic.items():\n",
    "    if v == sorted(list(dic.values()))[-1]:\n",
    "        print('The mode of data is :',k)"
   ]
  },
  {
   "cell_type": "code",
   "execution_count": 55,
   "id": "0fefc60b",
   "metadata": {},
   "outputs": [],
   "source": [
    "# there is no mode in the numpy library "
   ]
  },
  {
   "cell_type": "code",
   "execution_count": 58,
   "id": "bd9415ef",
   "metadata": {},
   "outputs": [
    {
     "data": {
      "text/plain": [
       "(array([ 0,  1,  2,  3,  4,  5,  6,  7,  8, 15]),\n",
       " array([2, 2, 7, 2, 2, 1, 1, 1, 1, 1], dtype=int64))"
      ]
     },
     "execution_count": 58,
     "metadata": {},
     "output_type": "execute_result"
    }
   ],
   "source": [
    "# lets use unique method in numpy \n",
    "# this method returns two values \n",
    "np.unique(no_of_children,return_counts = True)"
   ]
  },
  {
   "cell_type": "code",
   "execution_count": 60,
   "id": "c9f6ec1d",
   "metadata": {},
   "outputs": [
    {
     "name": "stdout",
     "output_type": "stream",
     "text": [
      "[ 0  1  2  3  4  5  6  7  8 15]\n",
      "[2 2 7 2 2 1 1 1 1 1]\n"
     ]
    }
   ],
   "source": [
    "unique_elements, frequency = np.unique(no_of_children,return_counts = True)\n",
    "print(unique_elements)\n",
    "print(frequency)"
   ]
  },
  {
   "cell_type": "code",
   "execution_count": 62,
   "id": "d6cc5b44",
   "metadata": {},
   "outputs": [
    {
     "name": "stdout",
     "output_type": "stream",
     "text": [
      "7\n"
     ]
    }
   ],
   "source": [
    "max_freq = np.max(frequency)\n",
    "print(max_freq)"
   ]
  },
  {
   "cell_type": "markdown",
   "id": "723c8dc1",
   "metadata": {},
   "source": [
    "## np.where\n",
    "finds the index of the elements as per condition applied \n",
    "\n",
    "np.array(array ==/>/< max/min/val)"
   ]
  },
  {
   "cell_type": "code",
   "execution_count": 63,
   "id": "2ce9c5db",
   "metadata": {},
   "outputs": [
    {
     "data": {
      "text/plain": [
       "(array([2], dtype=int64),)"
      ]
     },
     "execution_count": 63,
     "metadata": {},
     "output_type": "execute_result"
    }
   ],
   "source": [
    "np.where(frequency == max_freq)"
   ]
  },
  {
   "cell_type": "code",
   "execution_count": 67,
   "id": "ed18091b",
   "metadata": {},
   "outputs": [
    {
     "ename": "TypeError",
     "evalue": "list indices must be integers or slices, not tuple",
     "output_type": "error",
     "traceback": [
      "\u001b[1;31m---------------------------------------------------------------------------\u001b[0m",
      "\u001b[1;31mTypeError\u001b[0m                                 Traceback (most recent call last)",
      "Input \u001b[1;32mIn [67]\u001b[0m, in \u001b[0;36m<cell line: 2>\u001b[1;34m()\u001b[0m\n\u001b[0;32m      1\u001b[0m mode_index \u001b[38;5;241m=\u001b[39m np\u001b[38;5;241m.\u001b[39mwhere(frequency \u001b[38;5;241m==\u001b[39m max_freq)\n\u001b[1;32m----> 2\u001b[0m mode \u001b[38;5;241m=\u001b[39m \u001b[43mno_of_children\u001b[49m\u001b[43m[\u001b[49m\u001b[43mmode_index\u001b[49m\u001b[43m]\u001b[49m\n\u001b[0;32m      3\u001b[0m \u001b[38;5;28mprint\u001b[39m(mode)\n",
      "\u001b[1;31mTypeError\u001b[0m: list indices must be integers or slices, not tuple"
     ]
    }
   ],
   "source": [
    "mode_index = np.where(frequency == max_freq)\n",
    "mode = no_of_children[mode_index]\n",
    "print(mode)"
   ]
  },
  {
   "cell_type": "code",
   "execution_count": 86,
   "id": "dd2ccc5e",
   "metadata": {},
   "outputs": [
    {
     "data": {
      "text/plain": [
       "2"
      ]
     },
     "execution_count": 86,
     "metadata": {},
     "output_type": "execute_result"
    }
   ],
   "source": [
    "# call the inner values using indexing \n",
    "np.where(frequency == max_freq)[0][0]"
   ]
  },
  {
   "cell_type": "code",
   "execution_count": 87,
   "id": "ee9c4f04",
   "metadata": {},
   "outputs": [
    {
     "name": "stdout",
     "output_type": "stream",
     "text": [
      "2\n"
     ]
    }
   ],
   "source": [
    "mode_index = np.where(frequency == max_freq)\n",
    "mode = no_of_children[mode_index[0][0]]\n",
    "print(mode)"
   ]
  },
  {
   "cell_type": "markdown",
   "id": "c958f103",
   "metadata": {},
   "source": [
    "## statistics library"
   ]
  },
  {
   "cell_type": "code",
   "execution_count": 91,
   "id": "bcb86346",
   "metadata": {},
   "outputs": [],
   "source": [
    "import statistics as st"
   ]
  },
  {
   "cell_type": "code",
   "execution_count": 90,
   "id": "e861edb9",
   "metadata": {},
   "outputs": [
    {
     "data": {
      "text/plain": [
       "2"
      ]
     },
     "execution_count": 90,
     "metadata": {},
     "output_type": "execute_result"
    }
   ],
   "source": [
    "st.mode(no_of_children)"
   ]
  },
  {
   "cell_type": "code",
   "execution_count": 98,
   "id": "8ea20cc2",
   "metadata": {},
   "outputs": [
    {
     "name": "stdout",
     "output_type": "stream",
     "text": [
      "[2 4 5]\n",
      "[4 1 4]\n"
     ]
    }
   ],
   "source": [
    "#You can also have two modes\n",
    "two_mode_data = [5,5,5,5,2,2,2,2,4]\n",
    "two_mode = np.array(two_mode_data)\n",
    "unique_elems,freq = np.unique(two_mode,return_counts = True)\n",
    "print(unique_elems)\n",
    "print(freq)"
   ]
  },
  {
   "cell_type": "code",
   "execution_count": 101,
   "id": "54b1a7c7",
   "metadata": {},
   "outputs": [
    {
     "data": {
      "text/plain": [
       "5"
      ]
     },
     "execution_count": 101,
     "metadata": {},
     "output_type": "execute_result"
    }
   ],
   "source": [
    "st.mode(two_mode) # returns just one mode though "
   ]
  },
  {
   "cell_type": "code",
   "execution_count": 103,
   "id": "05d59808",
   "metadata": {},
   "outputs": [
    {
     "name": "stdout",
     "output_type": "stream",
     "text": [
      "[   2    4    5 1000]\n",
      "[4 1 4 1]\n"
     ]
    }
   ],
   "source": [
    "two_mode_2 = np.array([5,5,5,5,2,2,2,2,4,1000])\n",
    "unique_elems,freq=np.unique(two_mode_2,return_counts = True)\n",
    "print(unique_elems)\n",
    "print(freq)"
   ]
  },
  {
   "cell_type": "code",
   "execution_count": 104,
   "id": "1f5a15c9",
   "metadata": {},
   "outputs": [
    {
     "data": {
      "text/plain": [
       "5"
      ]
     },
     "execution_count": 104,
     "metadata": {},
     "output_type": "execute_result"
    }
   ],
   "source": [
    "st.mode(two_mode_2)"
   ]
  },
  {
   "cell_type": "markdown",
   "id": "7bb7f6fe",
   "metadata": {},
   "source": [
    "# Measures of Spread"
   ]
  },
  {
   "cell_type": "markdown",
   "id": "605ac551",
   "metadata": {},
   "source": [
    "## loading the data "
   ]
  },
  {
   "cell_type": "code",
   "execution_count": 1,
   "id": "1f66a6d9",
   "metadata": {},
   "outputs": [
    {
     "data": {
      "text/plain": [
       "'C:\\\\Users\\\\Deepu\\\\Documents\\\\My math codes'"
      ]
     },
     "execution_count": 1,
     "metadata": {},
     "output_type": "execute_result"
    }
   ],
   "source": [
    "pwd"
   ]
  },
  {
   "cell_type": "code",
   "execution_count": 2,
   "id": "73a768e5",
   "metadata": {},
   "outputs": [
    {
     "name": "stdout",
     "output_type": "stream",
     "text": [
      "C:\\Users\\Deepu\\Downloads\n"
     ]
    }
   ],
   "source": [
    "cd C:\\\\Users\\\\Deepu\\\\Downloads"
   ]
  },
  {
   "cell_type": "code",
   "execution_count": 60,
   "id": "945ef74b",
   "metadata": {},
   "outputs": [],
   "source": [
    "df = pd.read_csv('phone_data.csv')"
   ]
  },
  {
   "cell_type": "code",
   "execution_count": 7,
   "id": "eca0b6b0",
   "metadata": {},
   "outputs": [
    {
     "name": "stdout",
     "output_type": "stream",
     "text": [
      "<class 'pandas.core.frame.DataFrame'>\n",
      "RangeIndex: 830 entries, 0 to 829\n",
      "Data columns (total 7 columns):\n",
      " #   Column        Non-Null Count  Dtype  \n",
      "---  ------        --------------  -----  \n",
      " 0   index         830 non-null    int64  \n",
      " 1   date          830 non-null    object \n",
      " 2   duration      830 non-null    float64\n",
      " 3   item          830 non-null    object \n",
      " 4   month         830 non-null    object \n",
      " 5   network       830 non-null    object \n",
      " 6   network_type  830 non-null    object \n",
      "dtypes: float64(1), int64(1), object(5)\n",
      "memory usage: 45.5+ KB\n"
     ]
    }
   ],
   "source": [
    "df.info()"
   ]
  },
  {
   "cell_type": "code",
   "execution_count": 9,
   "id": "0af17f59",
   "metadata": {},
   "outputs": [
    {
     "data": {
      "text/html": [
       "<div>\n",
       "<style scoped>\n",
       "    .dataframe tbody tr th:only-of-type {\n",
       "        vertical-align: middle;\n",
       "    }\n",
       "\n",
       "    .dataframe tbody tr th {\n",
       "        vertical-align: top;\n",
       "    }\n",
       "\n",
       "    .dataframe thead th {\n",
       "        text-align: right;\n",
       "    }\n",
       "</style>\n",
       "<table border=\"1\" class=\"dataframe\">\n",
       "  <thead>\n",
       "    <tr style=\"text-align: right;\">\n",
       "      <th></th>\n",
       "      <th>index</th>\n",
       "      <th>duration</th>\n",
       "    </tr>\n",
       "  </thead>\n",
       "  <tbody>\n",
       "    <tr>\n",
       "      <th>count</th>\n",
       "      <td>830.000000</td>\n",
       "      <td>830.000000</td>\n",
       "    </tr>\n",
       "    <tr>\n",
       "      <th>mean</th>\n",
       "      <td>414.500000</td>\n",
       "      <td>117.804036</td>\n",
       "    </tr>\n",
       "    <tr>\n",
       "      <th>std</th>\n",
       "      <td>239.744656</td>\n",
       "      <td>444.129560</td>\n",
       "    </tr>\n",
       "    <tr>\n",
       "      <th>min</th>\n",
       "      <td>0.000000</td>\n",
       "      <td>1.000000</td>\n",
       "    </tr>\n",
       "    <tr>\n",
       "      <th>25%</th>\n",
       "      <td>207.250000</td>\n",
       "      <td>1.000000</td>\n",
       "    </tr>\n",
       "    <tr>\n",
       "      <th>50%</th>\n",
       "      <td>414.500000</td>\n",
       "      <td>24.500000</td>\n",
       "    </tr>\n",
       "    <tr>\n",
       "      <th>75%</th>\n",
       "      <td>621.750000</td>\n",
       "      <td>55.000000</td>\n",
       "    </tr>\n",
       "    <tr>\n",
       "      <th>max</th>\n",
       "      <td>829.000000</td>\n",
       "      <td>10528.000000</td>\n",
       "    </tr>\n",
       "  </tbody>\n",
       "</table>\n",
       "</div>"
      ],
      "text/plain": [
       "            index      duration\n",
       "count  830.000000    830.000000\n",
       "mean   414.500000    117.804036\n",
       "std    239.744656    444.129560\n",
       "min      0.000000      1.000000\n",
       "25%    207.250000      1.000000\n",
       "50%    414.500000     24.500000\n",
       "75%    621.750000     55.000000\n",
       "max    829.000000  10528.000000"
      ]
     },
     "execution_count": 9,
     "metadata": {},
     "output_type": "execute_result"
    }
   ],
   "source": [
    "df.describe()"
   ]
  },
  {
   "cell_type": "markdown",
   "id": "fdb3a47d",
   "metadata": {},
   "source": [
    "## Variance \n",
    "Variance is a statistical term that measures how spread out a set of data is. It quantifies the degree of variation or dispersion of a data set relative to its mean or expected value. A higher variance indicates that the data points are more spread out, while a lower variance suggests that the data points are closer to the mean. Mathematically, the variance is calculated as the average of the squared differences between each data point and the mean of the set. Variance is an important concept in many areas of mathematics, statistics, and data analysis, as it helps to quantify the degree of uncertainty or risk associated with a particular set of data."
   ]
  },
  {
   "cell_type": "code",
   "execution_count": 11,
   "id": "ef86969e",
   "metadata": {},
   "outputs": [
    {
     "data": {
      "text/plain": [
       "197013.4143766616"
      ]
     },
     "execution_count": 11,
     "metadata": {},
     "output_type": "execute_result"
    }
   ],
   "source": [
    "np.var(df['duration'])"
   ]
  },
  {
   "cell_type": "code",
   "execution_count": 15,
   "id": "8f6d4457",
   "metadata": {},
   "outputs": [
    {
     "data": {
      "text/plain": [
       "10528.0"
      ]
     },
     "execution_count": 15,
     "metadata": {},
     "output_type": "execute_result"
    }
   ],
   "source": [
    "df.duration.max()"
   ]
  },
  {
   "cell_type": "code",
   "execution_count": 12,
   "id": "c333f39f",
   "metadata": {},
   "outputs": [
    {
     "name": "stdout",
     "output_type": "stream",
     "text": [
      "The variance is 197013.4143766616\n"
     ]
    }
   ],
   "source": [
    "print('The variance is',np.var(df['duration']))"
   ]
  },
  {
   "cell_type": "markdown",
   "id": "8f10c856",
   "metadata": {},
   "source": [
    "## standard deviation \n",
    "Standard deviation is a statistical measure that indicates how much the data in a set deviates from the mean or average value. It is a measure of the dispersion or variability of a set of data points"
   ]
  },
  {
   "cell_type": "code",
   "execution_count": 13,
   "id": "e1770a0b",
   "metadata": {},
   "outputs": [
    {
     "data": {
      "text/plain": [
       "443.86193165967904"
      ]
     },
     "execution_count": 13,
     "metadata": {},
     "output_type": "execute_result"
    }
   ],
   "source": [
    "np.std(df['duration'])"
   ]
  },
  {
   "cell_type": "code",
   "execution_count": 16,
   "id": "a748d861",
   "metadata": {},
   "outputs": [
    {
     "data": {
      "text/plain": [
       "117.80403614457829"
      ]
     },
     "execution_count": 16,
     "metadata": {},
     "output_type": "execute_result"
    }
   ],
   "source": [
    "np.mean(df['duration'])"
   ]
  },
  {
   "cell_type": "markdown",
   "id": "e5439ea0",
   "metadata": {},
   "source": [
    "So how excatly do you decide that the standard devation or the variance of data set is way to large number, simple compare it with the mean of data"
   ]
  },
  {
   "cell_type": "markdown",
   "id": "952d09a9",
   "metadata": {},
   "source": [
    "## Range"
   ]
  },
  {
   "cell_type": "code",
   "execution_count": 19,
   "id": "7e57edbc",
   "metadata": {},
   "outputs": [],
   "source": [
    "range_of_data = df['duration'].max() - df['duration'].min()"
   ]
  },
  {
   "cell_type": "code",
   "execution_count": 20,
   "id": "1c87b2af",
   "metadata": {},
   "outputs": [
    {
     "name": "stdout",
     "output_type": "stream",
     "text": [
      "10527.0\n"
     ]
    }
   ],
   "source": [
    "print(range_of_data)"
   ]
  },
  {
   "cell_type": "markdown",
   "id": "5bd5d454",
   "metadata": {},
   "source": [
    "## Interquartile range "
   ]
  },
  {
   "cell_type": "markdown",
   "id": "3dbf5e57",
   "metadata": {},
   "source": [
    "This deals with the idea of percentile which means if you have a score of 54 and your percentile is 84% this means there are 84\n",
    "percentage of people you have got makes which is less than 54 or 84% people or below you "
   ]
  },
  {
   "cell_type": "code",
   "execution_count": 23,
   "id": "30d56097",
   "metadata": {},
   "outputs": [
    {
     "name": "stdout",
     "output_type": "stream",
     "text": [
      "1.0\n"
     ]
    }
   ],
   "source": [
    "#Percentiles \n",
    "percentile_q1 = np.percentile(df.duration,25)\n",
    "print(percentile_q1)\n",
    "# this means that the 25 % of data is below or equal to 1 min, considering the duration is in minutes "
   ]
  },
  {
   "cell_type": "code",
   "execution_count": 24,
   "id": "959cd54d",
   "metadata": {},
   "outputs": [
    {
     "name": "stdout",
     "output_type": "stream",
     "text": [
      "24.5\n"
     ]
    }
   ],
   "source": [
    "percentile_q2 = np.percentile(df['duration'],50)\n",
    "print(percentile_q2)\n",
    "# this means that 50% data is either equal or below 24.5 minutes, considering that the duration is in minutes "
   ]
  },
  {
   "cell_type": "code",
   "execution_count": 26,
   "id": "10e75236",
   "metadata": {},
   "outputs": [
    {
     "name": "stdout",
     "output_type": "stream",
     "text": [
      "55.0\n"
     ]
    }
   ],
   "source": [
    "percentile_q3 = np.percentile(df['duration'],75)\n",
    "print(percentile_q3)\n",
    "# this means that 75% data is below/equal 55 minutes "
   ]
  },
  {
   "cell_type": "markdown",
   "id": "eaa51829",
   "metadata": {},
   "source": [
    "## the 50% quartile say that 50% of data are either below 24.5 or equal 24.5 which also means that 24.5 divides the data set into two equal parts and hence it is also called median "
   ]
  },
  {
   "cell_type": "code",
   "execution_count": 27,
   "id": "6ce1d232",
   "metadata": {},
   "outputs": [
    {
     "name": "stdout",
     "output_type": "stream",
     "text": [
      "54.0\n"
     ]
    }
   ],
   "source": [
    "#interquartile range \n",
    "iq_range = percentile_q3 - percentile_q1\n",
    "print(iq_range)"
   ]
  },
  {
   "cell_type": "markdown",
   "id": "7da10296",
   "metadata": {},
   "source": [
    "# Box plot \n",
    "Go through this videos things will be clear in notime"
   ]
  },
  {
   "cell_type": "markdown",
   "id": "02390dd8",
   "metadata": {},
   "source": [
    "https://www.youtube.com/watch?v=sytBDWefYb0&t=4s"
   ]
  },
  {
   "cell_type": "code",
   "execution_count": 28,
   "id": "9063a5f4",
   "metadata": {},
   "outputs": [],
   "source": [
    "lis = [-10, 1, 2, 3, 4, 5, 6, 7, 8, 9, 20]"
   ]
  },
  {
   "cell_type": "code",
   "execution_count": 33,
   "id": "1a901da3",
   "metadata": {},
   "outputs": [
    {
     "name": "stderr",
     "output_type": "stream",
     "text": [
      "C:\\ProgramData\\Anaconda3\\lib\\site-packages\\seaborn\\_decorators.py:36: FutureWarning: Pass the following variable as a keyword arg: x. From version 0.12, the only valid positional argument will be `data`, and passing other arguments without an explicit keyword will result in an error or misinterpretation.\n",
      "  warnings.warn(\n"
     ]
    },
    {
     "data": {
      "text/plain": [
       "<AxesSubplot:>"
      ]
     },
     "execution_count": 33,
     "metadata": {},
     "output_type": "execute_result"
    },
    {
     "data": {
      "image/png": "[encoded data removed]",
      "text/plain": [
       "<Figure size 432x288 with 1 Axes>"
      ]
     },
     "metadata": {},
     "output_type": "display_data"
    }
   ],
   "source": [
    "sns.set_theme(style = 'whitegrid')\n",
    "sns.boxplot(lis)"
   ]
  },
  {
   "cell_type": "markdown",
   "id": "b50ff52d",
   "metadata": {},
   "source": [
    "# outlier \n",
    "it's just a mathematical concept and given by the formula below "
   ]
  },
  {
   "cell_type": "markdown",
   "id": "b320fc08",
   "metadata": {},
   "source": [
    "Outlier calculation\n",
    "\n",
    "Q1 - 1.5 IQR = 3 - 1.5 * (7-3) = 3 - 1.5 * 4 = -3 **any value below -3 is outlier**  \n",
    "Q3 + 1.5 IQR = 7 + 1.5 * 4 = 13 **any value above 13 is an outlier** "
   ]
  },
  {
   "cell_type": "markdown",
   "id": "6e8578e8",
   "metadata": {},
   "source": [
    "# Measure of symetry "
   ]
  },
  {
   "cell_type": "code",
   "execution_count": 47,
   "id": "1161eff5",
   "metadata": {},
   "outputs": [
    {
     "name": "stderr",
     "output_type": "stream",
     "text": [
      "C:\\ProgramData\\Anaconda3\\lib\\site-packages\\seaborn\\distributions.py:2619: FutureWarning: `distplot` is a deprecated function and will be removed in a future version. Please adapt your code to use either `displot` (a figure-level function with similar flexibility) or `histplot` (an axes-level function for histograms).\n",
      "  warnings.warn(msg, FutureWarning)\n"
     ]
    },
    {
     "data": {
      "image/png": "[encoded data removed]",
      "text/plain": [
       "<Figure size 432x432 with 1 Axes>"
      ]
     },
     "metadata": {},
     "output_type": "display_data"
    }
   ],
   "source": [
    "plt.figure(figsize = (6,6))\n",
    "sns.distplot(df['duration'],hist = True)\n",
    "plt.show()"
   ]
  },
  {
   "cell_type": "markdown",
   "id": "2fb03f3c",
   "metadata": {},
   "source": [
    "**The above graph is an example of a positively skewed distribution \n",
    "Try to understand this by taking an example of income distribution data\n",
    "This type of distribution indicates that there are more low values than high values. eg income distribution where outliers are pulling the tail of \n",
    "the graph towards the right side , outliers like Ambanis, Tatas, Birlas\n",
    "In such cases mean is higher than median** "
   ]
  },
  {
   "cell_type": "code",
   "execution_count": 64,
   "id": "64bc7909",
   "metadata": {},
   "outputs": [],
   "source": [
    "df['negative_duration'] = 0-df['duration']"
   ]
  },
  {
   "cell_type": "code",
   "execution_count": 65,
   "id": "94219c89",
   "metadata": {},
   "outputs": [
    {
     "data": {
      "text/plain": [
       "0     -34.429\n",
       "1     -13.000\n",
       "2     -23.000\n",
       "3      -4.000\n",
       "4      -4.000\n",
       "        ...  \n",
       "825    -1.000\n",
       "826    -1.000\n",
       "827   -34.429\n",
       "828    -1.000\n",
       "829    -1.000\n",
       "Name: negative_duration, Length: 830, dtype: float64"
      ]
     },
     "execution_count": 65,
     "metadata": {},
     "output_type": "execute_result"
    }
   ],
   "source": [
    "df['negative_duration']"
   ]
  },
  {
   "cell_type": "code",
   "execution_count": 48,
   "id": "a3ba78e7",
   "metadata": {},
   "outputs": [
    {
     "name": "stderr",
     "output_type": "stream",
     "text": [
      "C:\\ProgramData\\Anaconda3\\lib\\site-packages\\seaborn\\distributions.py:2619: FutureWarning: `distplot` is a deprecated function and will be removed in a future version. Please adapt your code to use either `displot` (a figure-level function with similar flexibility) or `histplot` (an axes-level function for histograms).\n",
      "  warnings.warn(msg, FutureWarning)\n"
     ]
    },
    {
     "data": {
      "image/png": "[encoded data removed]",
      "text/plain": [
       "<Figure size 432x432 with 1 Axes>"
      ]
     },
     "metadata": {},
     "output_type": "display_data"
    }
   ],
   "source": [
    "plt.figure(figsize=(6, 6))\n",
    "sns.distplot(df['negative_duration'],hist = True)\n",
    "plt.show()"
   ]
  },
  {
   "cell_type": "markdown",
   "id": "04338e81",
   "metadata": {},
   "source": [
    "**The above graph is an example of negatively skewed, to understand this consider the data of age of students at the time of masters obviously there are some prodigy who complete their mastere at a very young age \n",
    "This type of distributions indicates that there are more high values than low values, this also states the fact that there are less prodigys, this pull the tail of the graph towards the left side** \n",
    "\n",
    "**Now the important question which is greater here the mean or the median here since there are outlier in the less side (age) the \n",
    "mean is less then the median** "
   ]
  },
  {
   "cell_type": "code",
   "execution_count": null,
   "id": "f4481579",
   "metadata": {},
   "outputs": [],
   "source": []
  },
  {
   "cell_type": "markdown",
   "id": "150572f9",
   "metadata": {},
   "source": [
    "## A visual representation of distribution for your referenece"
   ]
  },
  {
   "cell_type": "code",
   "execution_count": null,
   "id": "67f1bd82",
   "metadata": {},
   "outputs": [],
   "source": [
    "pwd"
   ]
  },
  {
   "cell_type": "code",
   "execution_count": 50,
   "id": "727154f8",
   "metadata": {},
   "outputs": [
    {
     "data": {
      "image/png": "[encoded data removed]",
      "text/plain": [
       "<IPython.core.display.Image object>"
      ]
     },
     "execution_count": 50,
     "metadata": {},
     "output_type": "execute_result"
    }
   ],
   "source": [
    "from IPython.display import Image\n",
    "Image(filename='data_distribution.png')"
   ]
  },
  {
   "cell_type": "markdown",
   "id": "096db411",
   "metadata": {},
   "source": [
    "# skewness"
   ]
  },
  {
   "cell_type": "markdown",
   "id": "358fa009",
   "metadata": {},
   "source": [
    "The skew() function in pandas returns a single value that represents the skewness of the data. A value of 0 indicates a perfectly symmetrical distribution, while a positive or negative value indicates a right or left-skewed distribution, respectively."
   ]
  },
  {
   "cell_type": "code",
   "execution_count": 59,
   "id": "b4dd1701",
   "metadata": {},
   "outputs": [
    {
     "name": "stdout",
     "output_type": "stream",
     "text": [
      "Skewness of column A: 0.0\n",
      "Skewness of the DataFrame: A    0.0\n",
      "B    0.0\n",
      "C    0.0\n",
      "dtype: float64\n"
     ]
    }
   ],
   "source": [
    "# create a DataFrame\n",
    "data = {'A': [1, 2, 3, 4, 5], 'B': [6, 7, 8, 9, 10], 'C': [11, 12, 13, 14, 15]}\n",
    "df1 = pd.DataFrame(data)\n",
    "\n",
    "# calculate skewness of column 'A'\n",
    "skewness = df1['A'].skew()\n",
    "print(\"Skewness of column A:\", skewness)\n",
    "\n",
    "# calculate skewness of the entire DataFrame\n",
    "skewness = df1.skew()\n",
    "print(\"Skewness of the DataFrame:\", skewness)\n"
   ]
  },
  {
   "cell_type": "markdown",
   "id": "ae822511",
   "metadata": {},
   "source": [
    "skewness is a measure of the asymmetry of a dataset. The skew() function in pandas can be used to calculate the skewness of a given dataset or a column in a pandas DataFrame.\n",
    "\n",
    "so behind the scene first, mean, median, mode is calculated, distribution graph is ploted and then skewness is calculated\n"
   ]
  },
  {
   "cell_type": "code",
   "execution_count": 62,
   "id": "82041df3",
   "metadata": {},
   "outputs": [
    {
     "data": {
      "text/plain": [
       "16.40023296027493"
      ]
     },
     "execution_count": 62,
     "metadata": {},
     "output_type": "execute_result"
    }
   ],
   "source": [
    "# skewness of duration\n",
    "df['duration'].skew(axis = 0,skipna = True )"
   ]
  },
  {
   "cell_type": "code",
   "execution_count": 66,
   "id": "c16d0637",
   "metadata": {},
   "outputs": [
    {
     "data": {
      "text/plain": [
       "-16.40023296027493"
      ]
     },
     "execution_count": 66,
     "metadata": {},
     "output_type": "execute_result"
    }
   ],
   "source": [
    "# skewness of negative duration \n",
    "df['negative_duration'].skew(axis = 0, skipna = True)"
   ]
  },
  {
   "cell_type": "markdown",
   "id": "25dadff1",
   "metadata": {},
   "source": [
    "## The magnitude of the skewness value indicates the degree of deviation from a normal distribution(symetrical distribution)"
   ]
  },
  {
   "cell_type": "markdown",
   "id": "6088e5d9",
   "metadata": {},
   "source": [
    "Lets also check the distribution of the lis dataset"
   ]
  },
  {
   "cell_type": "code",
   "execution_count": 69,
   "id": "ab0ed688",
   "metadata": {},
   "outputs": [
    {
     "name": "stderr",
     "output_type": "stream",
     "text": [
      "C:\\ProgramData\\Anaconda3\\lib\\site-packages\\seaborn\\distributions.py:2619: FutureWarning: `distplot` is a deprecated function and will be removed in a future version. Please adapt your code to use either `displot` (a figure-level function with similar flexibility) or `histplot` (an axes-level function for histograms).\n",
      "  warnings.warn(msg, FutureWarning)\n"
     ]
    },
    {
     "data": {
      "image/png": "[encoded data removed]",
      "text/plain": [
       "<Figure size 432x288 with 1 Axes>"
      ]
     },
     "metadata": {},
     "output_type": "display_data"
    }
   ],
   "source": [
    "sns.distplot(lis, hist = True)\n",
    "plt.show()"
   ]
  },
  {
   "cell_type": "markdown",
   "id": "f496f451",
   "metadata": {},
   "source": [
    "# Outlier Detection "
   ]
  },
  {
   "cell_type": "code",
   "execution_count": 70,
   "id": "e0b0a65d",
   "metadata": {},
   "outputs": [],
   "source": [
    "# Calculate Q1 and Q3, IQR\n",
    "# Come up with lower and upper limits for outliers\n",
    "# Subset the df based on those values"
   ]
  },
  {
   "cell_type": "code",
   "execution_count": 81,
   "id": "9ccddd50",
   "metadata": {},
   "outputs": [],
   "source": [
    "new = df[df['duration'] < 400]"
   ]
  },
  {
   "cell_type": "code",
   "execution_count": 80,
   "id": "679c9da0",
   "metadata": {},
   "outputs": [
    {
     "data": {
      "text/plain": [
       "0      34.429\n",
       "1      13.000\n",
       "2      23.000\n",
       "3       4.000\n",
       "4       4.000\n",
       "        ...  \n",
       "825     1.000\n",
       "826     1.000\n",
       "827    34.429\n",
       "828     1.000\n",
       "829     1.000\n",
       "Name: duration, Length: 759, dtype: float64"
      ]
     },
     "execution_count": 80,
     "metadata": {},
     "output_type": "execute_result"
    }
   ],
   "source": [
    "new['duration']"
   ]
  },
  {
   "cell_type": "markdown",
   "id": "9d6b9d4a",
   "metadata": {},
   "source": [
    "The new data frame has duration lower then 400"
   ]
  },
  {
   "cell_type": "code",
   "execution_count": 1,
   "id": "be97391c",
   "metadata": {},
   "outputs": [],
   "source": [
    "# lets do a boxplot \n",
    "# just revist this tomorrow"
   ]
  },
  {
   "cell_type": "code",
   "execution_count": 88,
   "id": "b0184f1a",
   "metadata": {},
   "outputs": [
    {
     "name": "stderr",
     "output_type": "stream",
     "text": [
      "C:\\ProgramData\\Anaconda3\\lib\\site-packages\\seaborn\\_decorators.py:36: FutureWarning: Pass the following variable as a keyword arg: x. From version 0.12, the only valid positional argument will be `data`, and passing other arguments without an explicit keyword will result in an error or misinterpretation.\n",
      "  warnings.warn(\n"
     ]
    },
    {
     "data": {
      "image/png": "[encoded data removed]",
      "text/plain": [
       "<Figure size 432x288 with 1 Axes>"
      ]
     },
     "metadata": {},
     "output_type": "display_data"
    }
   ],
   "source": [
    "sns.boxplot(new['duration'])\n",
    "plt.show()"
   ]
  },
  {
   "cell_type": "code",
   "execution_count": 90,
   "id": "8319d2a7",
   "metadata": {},
   "outputs": [],
   "source": [
    "# lets do a histplot"
   ]
  },
  {
   "cell_type": "code",
   "execution_count": 85,
   "id": "7fdd1ed2",
   "metadata": {},
   "outputs": [
    {
     "name": "stderr",
     "output_type": "stream",
     "text": [
      "C:\\ProgramData\\Anaconda3\\lib\\site-packages\\seaborn\\distributions.py:2619: FutureWarning: `distplot` is a deprecated function and will be removed in a future version. Please adapt your code to use either `displot` (a figure-level function with similar flexibility) or `histplot` (an axes-level function for histograms).\n",
      "  warnings.warn(msg, FutureWarning)\n"
     ]
    },
    {
     "data": {
      "image/png": "[encoded data removed]",
      "text/plain": [
       "<Figure size 576x432 with 1 Axes>"
      ]
     },
     "metadata": {},
     "output_type": "display_data"
    }
   ],
   "source": [
    "plt.figure(figsize = (8,6))\n",
    "sns.distplot(new['duration'],hist = True)\n",
    "plt.show()"
   ]
  },
  {
   "cell_type": "code",
   "execution_count": null,
   "id": "5e3984ca",
   "metadata": {},
   "outputs": [],
   "source": []
  }
 ],
 "metadata": {
  "kernelspec": {
   "display_name": "Python 3 (ipykernel)",
   "language": "python",
   "name": "python3"
  },
  "language_info": {
   "codemirror_mode": {
    "name": "ipython",
    "version": 3
   },
   "file_extension": ".py",
   "mimetype": "text/x-python",
   "name": "python",
   "nbconvert_exporter": "python",
   "pygments_lexer": "ipython3",
   "version": "3.9.12"
  }
 },
 "nbformat": 4,
 "nbformat_minor": 5
}
