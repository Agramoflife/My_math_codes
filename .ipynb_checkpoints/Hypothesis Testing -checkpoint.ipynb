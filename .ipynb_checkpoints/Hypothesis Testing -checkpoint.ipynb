{
 "cells": [
  {
   "cell_type": "markdown",
   "id": "2953fad3",
   "metadata": {},
   "source": [
    "# Hypothesis Testing"
   ]
  },
  {
   "cell_type": "markdown",
   "id": "11a846a3",
   "metadata": {},
   "source": [
    "# Part 1 - The theory of hypothesis testing "
   ]
  },
  {
   "cell_type": "markdown",
   "id": "fe0f00a4",
   "metadata": {},
   "source": [
    "Hypothesis testing is basically used to prove/disprove a claim using statistical techniques which we will cover as we proceed further"
   ]
  },
  {
   "cell_type": "markdown",
   "id": "25332063",
   "metadata": {},
   "source": [
    "Lets understand the difference between thesis and hypothesis  "
   ]
  },
  {
   "cell_type": "markdown",
   "id": "976b3889",
   "metadata": {},
   "source": [
    "Thesis is written when a fact has been established or discovered so basically it is just a doucument that is written to present your finding or established research, On the other hand hypothesis is some thing which is not yet proved or we are in the assumption of something that is considered true and we do a hypothesis testing to see if we can conclude something about the statement , we follow some staistical test to check wheather we should approve or disapprove the statement based on the rejection or no rejection region `"
   ]
  },
  {
   "cell_type": "markdown",
   "id": "befbb4c5",
   "metadata": {},
   "source": [
    "Lets understand the hypothesis testing with an analogous example, Consider this example as loosely tied with logic of hypothesis testing "
   ]
  },
  {
   "cell_type": "markdown",
   "id": "cadd6217",
   "metadata": {},
   "source": [
    "So In the eyes of law a person is innocent untill proven guilty so If we were to  do hypothesis testing of this so  how should we approach this "
   ]
  },
  {
   "cell_type": "markdown",
   "id": "7a3a44e0",
   "metadata": {},
   "source": [
    "So when we start the hypothesis testing we first find the null hypothesis and the alternate hypothesis the null hypothesis is basically the statment which is given(we also assume it to be true for the sake of doing the test) like the mean of population is 34 , so we would consider the null hypothesis often denote by H0 that is h not to mean = 34 and alternate hypothesis which is denothed by h1 to be mean != 34, following the same ground for our loosely tied example we would consider the null hypothesis in the case  "
   ]
  },
  {
   "cell_type": "markdown",
   "id": "abf430ad",
   "metadata": {},
   "source": [
    "Null Hypothesis (H0) : Person is innocent \n",
    "\n",
    "Alternate Hyptothesis (H1) person is not innocent "
   ]
  },
  {
   "cell_type": "markdown",
   "id": "de6e3d1f",
   "metadata": {},
   "source": [
    "Now the Judge will say that you Mr. Police go and bring me the evidence first to prove that the Person is guilty\n",
    "\n",
    "So the Judge believes that the Person is innocent at first \n",
    "\n"
   ]
  },
  {
   "cell_type": "markdown",
   "id": "d1d17f90",
   "metadata": {},
   "source": [
    "So the null hypothesis is the current status also called status quo Now the police will go and find evidence to prove the Person guilt the evidence here is analogous to the statistical test which we do in hypothesis testing"
   ]
  },
  {
   "cell_type": "markdown",
   "id": "1aaedff5",
   "metadata": {},
   "source": [
    "Hypothesis testing is alway done on the population parametere, You have already covered population and sample in the stats lecture"
   ]
  },
  {
   "cell_type": "markdown",
   "id": "082051d0",
   "metadata": {},
   "source": [
    "The statistical test is always done on the sample"
   ]
  },
  {
   "cell_type": "markdown",
   "id": "7ce1602c",
   "metadata": {},
   "source": [
    "Now is the concept of significance value, critical value , comes in picture "
   ]
  },
  {
   "cell_type": "markdown",
   "id": "f01e9362",
   "metadata": {},
   "source": [
    "# Rare event rule for inferential statsitics \n",
    "## if under a given assumption, The probability of a particular observed event is exceptionally small, we conclude that the assumption is probabily not correct "
   ]
  },
  {
   "cell_type": "markdown",
   "id": "5c702806",
   "metadata": {},
   "source": [
    "Consider the judge, person, police example to understand this> the judge belived that the person is innocent and asked the police to go and collect the evidence if the person has committed the crime or not now the police goes and finds that they have a footage where the person was seen at harbaour road , in Yoo society on 5 floor , in front of house no. 3 at 2:36 am, with a knife drenced in blood which is excatly where the murder happened and they have his face on cctv camera, Now the probability of such event given that the person is innocent if very very very small but yet the police found so now the judge would say that boss you are not innocent, That is judge basically  disregarding the null hypothesis "
   ]
  },
  {
   "cell_type": "markdown",
   "id": "f6fe827c",
   "metadata": {},
   "source": [
    "## This evidence or corresponding probability which we are talking about is the p value that is if I find probability below this then I will disregard my belive "
   ]
  },
  {
   "cell_type": "markdown",
   "id": "ee4bbefc",
   "metadata": {},
   "source": [
    "# Now when we are doing hypothesis test there are 3 types of alternate hypotesis test that\n",
    "\n",
    "Take an example where null hypothesis is mean \n",
    "\n",
    "## Two tail test which means claim != x\n",
    "\n",
    "H0 = 25 / mean = 25\n",
    "\n",
    "H1 != 25 / mean != 25\n",
    "\n",
    "\n",
    "## left tail test claim < x\n",
    "\n",
    "H0 = 25 / mean = 25\n",
    "\n",
    "H1 < 25 / mean < 25\n",
    "\n",
    "## rigth tail test claim > x\n",
    "\n",
    "H0 = 25 / mean = 25\n",
    "\n",
    "H1 > 25 / mean > 25"
   ]
  },
  {
   "cell_type": "markdown",
   "id": "d7c1d244",
   "metadata": {},
   "source": [
    "This is related to the graph of normal distribution which has tails just for understanding thats it "
   ]
  },
  {
   "cell_type": "markdown",
   "id": "214a85e8",
   "metadata": {},
   "source": [
    "Now when you get a question you calculate the z value and the z value converted into probability is called the p value if the z value is way beyod the confidence interval you change your belive "
   ]
  },
  {
   "cell_type": "markdown",
   "id": "b0dc3549",
   "metadata": {},
   "source": [
    "# significance value and critical value "
   ]
  },
  {
   "cell_type": "markdown",
   "id": "36a364ca",
   "metadata": {},
   "source": [
    "Significance value is basically a probability value which is alpha this value alpha is converted into critical value which is also nothing but the Z value"
   ]
  },
  {
   "cell_type": "markdown",
   "id": "d816b858",
   "metadata": {},
   "source": [
    "So what is P value then p value is basically the test statistics value which is coverted into probability value in other words p value is the probability(strength) of the evidence given that the null hypothesis is considered to be ture like in the case of judge and police example police get the evidence so the probability of such evidence found is called the p value "
   ]
  },
  {
   "cell_type": "markdown",
   "id": "c8e1fc14",
   "metadata": {},
   "source": [
    " the p-value measures the strength of evidence against the null hypothesis, while the critical value is a predetermined threshold used to make a decision on rejecting or failing to reject the null hypothesis based on the test statistic."
   ]
  },
  {
   "cell_type": "code",
   "execution_count": null,
   "id": "e065e90f",
   "metadata": {},
   "outputs": [],
   "source": []
  }
 ],
 "metadata": {
  "kernelspec": {
   "display_name": "Python 3 (ipykernel)",
   "language": "python",
   "name": "python3"
  },
  "language_info": {
   "codemirror_mode": {
    "name": "ipython",
    "version": 3
   },
   "file_extension": ".py",
   "mimetype": "text/x-python",
   "name": "python",
   "nbconvert_exporter": "python",
   "pygments_lexer": "ipython3",
   "version": "3.9.12"
  }
 },
 "nbformat": 4,
 "nbformat_minor": 5
}
