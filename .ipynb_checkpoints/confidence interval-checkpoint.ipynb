{
 "cells": [
  {
   "cell_type": "markdown",
   "id": "61b12df4",
   "metadata": {},
   "source": [
    "# Confidence interval"
   ]
  },
  {
   "cell_type": "markdown",
   "id": "a8222d8e",
   "metadata": {},
   "source": [
    "A confidence interval is a statistical range that estimates the true value of a population parameter, such as a population mean or proportion. It's a way to express the uncertainty associated with the estimation and is often used in inferential statistics.\n",
    "\n",
    "In practical terms, when you collect a sample from a larger population, you might want to estimate a population parameter, like the average height of people in a country or the proportion of voters who support a certain candidate. A point estimate (like the sample mean or sample proportion) gives you a single value, but it doesn't account for the variability that might exist if you were to take multiple samples.\n",
    "\n",
    "**A confidence interval provides a range of values within which the true population parameter is likely to lie. For instance, a 95% confidence interval for the average height of people in a country might be 160cm to 170cm. This means that if you were to take many samples and compute the confidence interval for each, about 95% of those intervals would contain the true average height of the entire population.**\n",
    "\n",
    "The width of the confidence interval is affected by factors like the sample size, the variability in the data, and the chosen level of confidence (such as 90%, 95%, or 99%). A higher confidence level will result in a wider interval, reflecting greater certainty that the true parameter lies within that range.\n",
    "\n",
    "It's important to note that a confidence interval doesn't provide the exact value of the population parameter but rather a range of plausible values based on the sample data and the level of confidence chosen."
   ]
  },
  {
   "cell_type": "code",
   "execution_count": null,
   "id": "307e8f7a",
   "metadata": {},
   "outputs": [],
   "source": []
  },
  {
   "cell_type": "markdown",
   "id": "4693cf14",
   "metadata": {},
   "source": [
    "A **95% confidence interval** means that if you were to take 100 different samples and compute a 95% confidence interval for each sample, then approximately 95 of the 100 confidence intervals will contain the true mean value (μ). \n",
    "\n",
    "In other words, 95% of the intervals would capture the true population parameter. It's important to note that this doesn't mean that there's a 95% probability that any one interval captures the true population parameter. The interval either captures it or it doesn't. \n",
    "\n",
    "This is a common interpretation of confidence intervals and is a fundamental concept in statistical inference.\n",
    "\n",
    "In the context of a 95% confidence interval, if you were to take 100 different samples from the same population and calculate the confidence interval for each, you would expect about 95 of those intervals to contain the true population mean."
   ]
  },
  {
   "cell_type": "markdown",
   "id": "9fe631f3",
   "metadata": {},
   "source": [
    "**The confidence interval shrinks down as you decrease the interval , like you have 1% confidence that it will rain 110 cm tomorow** "
   ]
  },
  {
   "cell_type": "markdown",
   "id": "13e09125",
   "metadata": {},
   "source": [
    "If you were to compute 100 of samples 95 would have contained the true parameter and 5 of them would have not contained that parameter - 'Hardik Gupta'\n",
    "\n",
    "So every sample would have an interval in that interval either the parameter is there or not but 95 of those interval would have the parameter between the interval"
   ]
  },
  {
   "cell_type": "markdown",
   "id": "f18eecda",
   "metadata": {},
   "source": [
    "##  Does z score coverts the normal distribution into a standard normal distribution and then tells us how much far are you form the mean ?"
   ]
  },
  {
   "cell_type": "markdown",
   "id": "d77df98d",
   "metadata": {},
   "source": [
    "Yes, you're absolutely correct! \n",
    "\n",
    "A **Z-score** is indeed a transformation that converts a normal distribution into a standard normal distribution, which has a mean of 0 and a standard deviation of 1. \n",
    "\n",
    "The Z-score tells us how many standard deviations away a data point is from the mean. It's a measure of how unusual or typical a data point is within the distribution. \n",
    "\n",
    "For example, a Z-score of 1.5 means that the data point is 1.5 standard deviations above the mean. Conversely, a Z-score of -2 means the data point is 2 standard deviations below the mean.\n",
    "\n",
    "This transformation is particularly useful when we want to compare data points from different normal distributions with different means and standard deviations. By converting them to Z-scores, we can make meaningful comparisons."
   ]
  },
  {
   "cell_type": "code",
   "execution_count": null,
   "id": "1706feda",
   "metadata": {},
   "outputs": [],
   "source": []
  }
 ],
 "metadata": {
  "kernelspec": {
   "display_name": "Python 3 (ipykernel)",
   "language": "python",
   "name": "python3"
  },
  "language_info": {
   "codemirror_mode": {
    "name": "ipython",
    "version": 3
   },
   "file_extension": ".py",
   "mimetype": "text/x-python",
   "name": "python",
   "nbconvert_exporter": "python",
   "pygments_lexer": "ipython3",
   "version": "3.9.12"
  }
 },
 "nbformat": 4,
 "nbformat_minor": 5
}
