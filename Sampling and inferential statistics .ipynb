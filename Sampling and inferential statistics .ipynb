{
 "cells": [
  {
   "cell_type": "markdown",
   "id": "002feed3",
   "metadata": {},
   "source": [
    "# Sampling and statistical inference"
   ]
  },
  {
   "cell_type": "code",
   "execution_count": 18,
   "id": "154ba833",
   "metadata": {},
   "outputs": [],
   "source": [
    "import numpy as np\n",
    "import matplotlib.pyplot as plt\n",
    "import seaborn as sns"
   ]
  },
  {
   "cell_type": "markdown",
   "id": "63524bf9",
   "metadata": {},
   "source": [
    "# CLT"
   ]
  },
  {
   "cell_type": "code",
   "execution_count": null,
   "id": "f6ed0eb0",
   "metadata": {},
   "outputs": [],
   "source": [
    "# let's draw samples from uniform distirubtion "
   ]
  },
  {
   "cell_type": "code",
   "execution_count": 55,
   "id": "651f6575",
   "metadata": {},
   "outputs": [],
   "source": [
    "# Histplot basically tells us the frequency of data points in the data"
   ]
  },
  {
   "cell_type": "markdown",
   "id": "6591c97b",
   "metadata": {},
   "source": [
    "## Here is what we will do we will take n number of samples form the uniform distribution, then we will calculate it's mean and then plot the means and see if the clt follow for normal distribution or not "
   ]
  },
  {
   "cell_type": "markdown",
   "id": "abc898ff",
   "metadata": {},
   "source": [
    "### population has a uniform distibuiton "
   ]
  },
  {
   "cell_type": "code",
   "execution_count": 42,
   "id": "f4ae371e",
   "metadata": {},
   "outputs": [],
   "source": [
    "np.random.seed(0)\n",
    "sample=np.random.uniform(1,100,50)"
   ]
  },
  {
   "cell_type": "code",
   "execution_count": 57,
   "id": "672c2243",
   "metadata": {},
   "outputs": [
    {
     "data": {
      "text/plain": [
       "54.25854670927857"
      ]
     },
     "execution_count": 57,
     "metadata": {},
     "output_type": "execute_result"
    }
   ],
   "source": [
    "sample.mean()"
   ]
  },
  {
   "cell_type": "code",
   "execution_count": 54,
   "id": "e45bdba6",
   "metadata": {},
   "outputs": [
    {
     "data": {
      "text/plain": [
       "<AxesSubplot:ylabel='Count'>"
      ]
     },
     "execution_count": 54,
     "metadata": {},
     "output_type": "execute_result"
    },
    {
     "data": {
      "image/png": "[encoded data removed]",
      "text/plain": [
       "<Figure size 432x288 with 1 Axes>"
      ]
     },
     "metadata": {
      "needs_background": "light"
     },
     "output_type": "display_data"
    }
   ],
   "source": [
    "sns.histplot(sample)"
   ]
  },
  {
   "cell_type": "code",
   "execution_count": 66,
   "id": "cf025e68",
   "metadata": {},
   "outputs": [],
   "source": [
    "mean_list = []\n",
    "for i in range(1000):\n",
    "    mean=np.random.uniform(1,100,500).mean()\n",
    "    mean_list.append(mean)\n",
    "#print(mean_list)    "
   ]
  },
  {
   "cell_type": "code",
   "execution_count": 68,
   "id": "b33b9342",
   "metadata": {
    "scrolled": true
   },
   "outputs": [
    {
     "data": {
      "text/plain": [
       "<AxesSubplot:ylabel='Count'>"
      ]
     },
     "execution_count": 68,
     "metadata": {},
     "output_type": "execute_result"
    },
    {
     "data": {
      "image/png": "[encoded data removed]",
      "text/plain": [
       "<Figure size 432x288 with 1 Axes>"
      ]
     },
     "metadata": {
      "needs_background": "light"
     },
     "output_type": "display_data"
    }
   ],
   "source": [
    "sns.histplot(mean_list,color = 'green')"
   ]
  },
  {
   "cell_type": "code",
   "execution_count": 70,
   "id": "ac1e9dfe",
   "metadata": {},
   "outputs": [],
   "source": [
    "# samples mean have a normal distribution "
   ]
  },
  {
   "cell_type": "code",
   "execution_count": 69,
   "id": "f4e07132",
   "metadata": {},
   "outputs": [
    {
     "name": "stderr",
     "output_type": "stream",
     "text": [
      "C:\\ProgramData\\Anaconda3\\lib\\site-packages\\seaborn\\distributions.py:2619: FutureWarning: `distplot` is a deprecated function and will be removed in a future version. Please adapt your code to use either `displot` (a figure-level function with similar flexibility) or `histplot` (an axes-level function for histograms).\n",
      "  warnings.warn(msg, FutureWarning)\n"
     ]
    },
    {
     "data": {
      "text/plain": [
       "<AxesSubplot:ylabel='Density'>"
      ]
     },
     "execution_count": 69,
     "metadata": {},
     "output_type": "execute_result"
    },
    {
     "data": {
      "image/png": "[encoded data removed]",
      "text/plain": [
       "<Figure size 432x288 with 1 Axes>"
      ]
     },
     "metadata": {
      "needs_background": "light"
     },
     "output_type": "display_data"
    }
   ],
   "source": [
    "#So if you want the line drawn over the bars we can use the distplot\n",
    "sns.distplot(mean_list,color = 'red')"
   ]
  },
  {
   "cell_type": "markdown",
   "id": "0fa30082",
   "metadata": {},
   "source": [
    "This way we can do it for other distribution "
   ]
  },
  {
   "cell_type": "markdown",
   "id": "afac1db5",
   "metadata": {},
   "source": [
    "# maximum likehood function "
   ]
  },
  {
   "cell_type": "markdown",
   "id": "ad39ba14",
   "metadata": {},
   "source": [
    "The likelihood function in statistics represents the probability of observing certain outcomes given specific values of the parameters in a statistical model. It's a fundamental concept in statistical inference, particularly in maximum likelihood estimation.\n",
    "\n",
    "The likelihood function is used to assess how well a particular model with certain parameter values explains the observed data. It is the probability of observing the data that has actually been observed, given certain parameter values.\n",
    "\n",
    "Let's break it down:\n",
    "\n",
    "1. **Observed Outcomes:**\n",
    "   These are the actual data or observations you have collected from a process or experiment.\n",
    "\n",
    "2. **Parameterized Model:**\n",
    "   A statistical model often includes parameters that define the behavior of the model. For example, in the case of a normal distribution, the parameters could be the mean and the standard deviation.\n",
    "\n",
    "3. **Likelihood Function:**\n",
    "   The likelihood function \\( L(\\theta | \\text{data}) \\) assesses the probability of observing the given data for different values of the model parameters (\\( \\theta \\)).\n",
    "\n",
    "   Mathematically, if you have observations \\( x_1, x_2, \\ldots, x_n \\), the likelihood function for a specific statistical model with parameter(s) \\( \\theta \\) is often denoted as \\( L(\\theta | x_1, x_2, \\ldots, x_n) \\).\n",
    "\n",
    "4. **Maximum Likelihood Estimation (MLE):**\n",
    "   The aim of the likelihood function is often tied to finding the parameter value(s) that maximize the likelihood of observing the given data. This process is called Maximum Likelihood Estimation. In other words, it's finding the parameter values that make the observed data the most probable given the assumed model.\n",
    "\n",
    "It's important to note that the likelihood function itself doesn't give you probabilities directly. Instead, it's a measure of the relative likelihood of different parameter values given the observed data.\n",
    "\n",
    "The likelihood function is a crucial concept in statistical modeling and inference, used extensively in fields such as regression analysis, hypothesis testing, and more, to estimate parameters and make predictions based on observed data."
   ]
  },
  {
   "cell_type": "markdown",
   "id": "4c5d3d8f",
   "metadata": {},
   "source": [
    "# Random varialbe in samples "
   ]
  },
  {
   "cell_type": "markdown",
   "id": "1c5cf976",
   "metadata": {},
   "source": [
    "## Population vs Sample "
   ]
  },
  {
   "cell_type": "markdown",
   "id": "77d268c6",
   "metadata": {},
   "source": [
    "Let's say you're interested in studying the average height of all students in a school.\n",
    "\n",
    "- **Population:** The population in this scenario would be all the students enrolled in that particular school. If there are 1000 students in total in the school, then all 1000 students represent the population.\n",
    "\n",
    "- **Sample:** A sample is a subset of the population that is taken to represent the entire group. For example, you might choose 100 students randomly from the 1000 students in the school. These 100 students would form your sample. You would measure and analyze the heights of these 100 students to make inferences about the average height of all 1000 students in the school.\n",
    "\n",
    "In this case:\n",
    "- **Population:** All 1000 students in the school.\n",
    "- **Sample:** A randomly selected group of 100 students from the school.\n"
   ]
  },
  {
   "cell_type": "markdown",
   "id": "569b70ac",
   "metadata": {},
   "source": [
    "Random variables are variables that can take on different values as a result of random phenomena. In the context of a sample, a random variable is a variable whose possible values are outcomes of a random process. When you take a sample from a population, the values of certain characteristics within that sample (like height, weight, test scores, etc.) can be considered as random variables because they can vary from one sample to another due to randomness in the selection process.\n",
    "\n",
    "For instance, if you're sampling students' heights from a school population, the height of each student in your sample is a random variable. Each student has a specific height, but when you're randomly selecting students for your sample, the individual heights can be seen as random variables because they can differ between different samples. \n",
    "\n",
    "These random variables have associated probabilities that can be described using a probability distribution. For example, you might have a higher probability of selecting students with average height compared to those who are exceptionally tall or short. The distribution of these heights within the sample would follow a certain pattern that can be described by statistical methods.\n",
    "\n",
    "In statistics, random variables within a sample are essential for understanding and making inferences about the population from which the sample is drawn. Probability distributions and statistical analyses are used to describe and understand the behavior and characteristics of these random variables within the sample."
   ]
  },
  {
   "cell_type": "markdown",
   "id": "e8a683ab",
   "metadata": {},
   "source": [
    "In the example of sampling students' heights from a school population, the variable \"height\" would be considered a random variable. Each student's height within the sample is a random variable because it can vary from one individual to another due to the randomness in the selection process.\n",
    "\n",
    "As you take different samples from the population, the specific heights observed within each sample will vary, and these variations in heights among the sampled individuals represent the random variable \"height\" in the context of that particular sample."
   ]
  },
  {
   "cell_type": "markdown",
   "id": "4bbf8ed6",
   "metadata": {},
   "source": [
    "Consider a scenario where you're not only collecting information about the heights of students, but you're also interested in their weights and their scores in a particular subject. In this case, you have three different random variables within the sample: height, weight, and subject scores.\n",
    "\n",
    "Let's break it down:\n",
    "\n",
    "- **Height:** Each student's height is a random variable. It varies among individuals in the sample.\n",
    "\n",
    "- **Weight:** Similarly, the weight of each student in the sample is a different random variable. It varies among individuals and is also subject to randomness.\n",
    "\n",
    "- **Subject Scores:** The scores of students in a particular subject form another set of random variables. Each student has a different score, and these scores vary within the sample.\n",
    "\n",
    "When collecting data on all three variables (height, weight, and subject scores) from a sample of students, you're dealing with multiple random variables in that sample. Each variable can have its own distribution and can vary independently within the sample, providing different types of information that can be analyzed to understand correlations, trends, or behaviors among these variables."
   ]
  },
  {
   "cell_type": "markdown",
   "id": "00e48f36",
   "metadata": {},
   "source": [
    "# Maximum Likelihood function "
   ]
  },
  {
   "cell_type": "markdown",
   "id": "dca7caf6",
   "metadata": {},
   "source": [
    "Suppose you have a sample of data and you want to estimate the parameter (or parameters) of the population that generated that data. The likelihood function allows you to assess how likely different values of the parameter(s) are to have produced the observed sample."
   ]
  },
  {
   "cell_type": "markdown",
   "id": "a4d03b19",
   "metadata": {},
   "source": [
    "In other words, given a specific statistical model and the observed data, the likelihood function assesses the likelihood of various parameter values being the ones that generated the observed sample. The parameter value(s) that make the observed sample most probable are considered the most likely estimates of the true parameter value(s) of the population."
   ]
  },
  {
   "cell_type": "markdown",
   "id": "11c2cdc5",
   "metadata": {},
   "source": [
    "In probability terms suppose you toss a coin and you get HHHT now the maximum likehood function will give you the value of probability (p) for which such sample space is observed \n",
    "\n",
    "the maximum likelihood function is used to estimate the parameters of a statistical model or distribution based on observed data. In your example of coin tossing, if you obtain a sequence like \"HHHT,\" you can use the maximum likelihood function to estimate the probability of getting that particular sequence based on different parameters of the underlying probability distribution.\n",
    "\n",
    "Assuming a fair coin, the parameter of interest might be the probability of getting heads (H) on any given coin toss. Let's denote this probability as \\( p \\). \n",
    "\n",
    "In this case, the likelihood function would calculate the probability of observing the sequence \"HHHT\" given different values of \\( p \\) and determine which value of \\( p \\) makes this specific sequence most probable.\n",
    "\n",
    "For a fair coin where the probability of heads (\\( p \\)) and tails (\\( 1 - p \\)) are both 0.5, the likelihood of obtaining \"HHHT\" would be:\n",
    "\n",
    "\\[ \\text{Likelihood} = P(\\text{HHHT}) = p \\times p \\times p \\times (1 - p) \\]\n",
    "\n",
    "This expression represents the likelihood of observing the sequence \"HHHT\" given a certain probability \\( p \\) of getting heads. To find the \\( p \\) that maximizes this likelihood, you can differentiate the likelihood function with respect to \\( p \\), set it to zero, and solve for \\( p \\).\n",
    "\n",
    "In the case of \"HHHT,\" if the coin is fair, the likelihood would be maximized at \\( p = 0.5 \\) because it is equally probable to get heads or tails on each toss of a fair coin. Therefore, in a fair coin scenario, the maximum likelihood estimation suggests \\( p = 0.5 \\) is the most likely parameter value for observing the sequence \"HHHT.\"\n",
    "\n",
    "The maximum likelihood function helps to find the parameter values that make the observed data most probable under a given statistical model or probability distribution.\n",
    "\n"
   ]
  },
  {
   "cell_type": "code",
   "execution_count": null,
   "id": "9ebb2af4",
   "metadata": {},
   "outputs": [],
   "source": []
  }
 ],
 "metadata": {
  "kernelspec": {
   "display_name": "Python 3 (ipykernel)",
   "language": "python",
   "name": "python3"
  },
  "language_info": {
   "codemirror_mode": {
    "name": "ipython",
    "version": 3
   },
   "file_extension": ".py",
   "mimetype": "text/x-python",
   "name": "python",
   "nbconvert_exporter": "python",
   "pygments_lexer": "ipython3",
   "version": "3.9.12"
  }
 },
 "nbformat": 4,
 "nbformat_minor": 5
}
