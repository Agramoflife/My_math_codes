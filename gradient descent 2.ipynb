{
 "cells": [
  {
   "cell_type": "markdown",
   "id": "aec5e70c",
   "metadata": {},
   "source": [
    "# Gradient Descent "
   ]
  },
  {
   "cell_type": "markdown",
   "id": "1bb0e839",
   "metadata": {},
   "source": [
    "## Preface"
   ]
  },
  {
   "cell_type": "markdown",
   "id": "c715bcfa",
   "metadata": {},
   "source": [
    "So lets take an example of supervised learning what is supervised learning so basically you have a data which has independent(variables) and dependent values(output) and you train your alogrithm on that 80% of data and the rest 20% you use it for predicting the dependent value \n",
    "\n",
    "note you already know what the actual output is, now in order to check how efficient your machine learning algorithm is what would a most common man on earth do, it will tally the predicited value with actually value and see if the prediction is correct or not. so here come the application of the cost function. \n",
    "\n",
    "Basically a cost function takes pridicted value and actual  value inside it and returns a number which determines how close your prediction is, in this case consider difference between the acutal and predicted value to be cost function, so the less the cost function is the more efficient your machine learning alogrithm is, now if you have a little bit reminesence of the past learning of calculas, if you had to find the minimum of some function you could do it by calculus. \n",
    "\n",
    "here come the gradient descent it is a machine learning alogrithm which helps us to find the minimum of any function in our case we want the minmum of cost function hence we are studing the gradient descent "
   ]
  },
  {
   "cell_type": "markdown",
   "id": "f5961980",
   "metadata": {},
   "source": [
    " ### Note: The gradient descent algorithm is used to find the local minima "
   ]
  },
  {
   "cell_type": "markdown",
   "id": "266696bb",
   "metadata": {},
   "source": [
    "The plus and negitive in the gradient descent algorithm can be related to the concept of finding of finding range in graph this is something which you did during the khan academy lectures "
   ]
  },
  {
   "cell_type": "code",
   "execution_count": 3,
   "id": "e95112a8",
   "metadata": {},
   "outputs": [],
   "source": [
    "from numpy import *\n",
    "from pandas import *\n",
    "from matplotlib.pyplot import *\n",
    "from seaborn import *"
   ]
  },
  {
   "cell_type": "markdown",
   "id": "b480bbcc",
   "metadata": {},
   "source": [
    "we will find the gradient descent of this function "
   ]
  },
  {
   "cell_type": "markdown",
   "id": "e3df0c0f",
   "metadata": {},
   "source": [
    "f(x)=0.1x^2+sin(0.1x^2)"
   ]
  },
  {
   "cell_type": "code",
   "execution_count": 15,
   "id": "94d3ec35",
   "metadata": {},
   "outputs": [],
   "source": [
    "def f(x):\n",
    "    # defineing the above function  as python function\n",
    "    return 0.1*x**2 + sin(0.1*x**2)\n",
    "\n",
    "# lets also create a plot of the function note, we will have to pass the value of x and it will compute f(x) and plot a grap for\n",
    "#us\n",
    "\n",
    "def plotf(x,xdot,label): # xdot is the variable which will be used to store x_next and will be used to calcuate f(x_next)\n",
    "    y = f(x)\n",
    "    plot(x,y,color = 'green')\n",
    "    xlabel('x axis')\n",
    "    ylabel('y axis')\n",
    "    title(label)\n",
    "    \n",
    "    plot(xdot,f(xdot),'ro') # this shows graph of x_next and f(x_next) this is used to check for local minima\n",
    "    show()"
   ]
  },
  {
   "cell_type": "code",
   "execution_count": 16,
   "id": "265b1329",
   "metadata": {},
   "outputs": [
    {
     "data": {
      "text/plain": [
       "0.19983341664682816"
      ]
     },
     "execution_count": 16,
     "metadata": {},
     "output_type": "execute_result"
    }
   ],
   "source": [
    "# first lets check if the function works fine or not\n",
    "f(1)"
   ]
  },
  {
   "cell_type": "code",
   "execution_count": 17,
   "id": "5abd6d6a",
   "metadata": {},
   "outputs": [
    {
     "data": {
      "image/png": "[encoded data removed]",
      "text/plain": [
       "<Figure size 432x288 with 1 Axes>"
      ]
     },
     "metadata": {
      "needs_background": "light"
     },
     "output_type": "display_data"
    }
   ],
   "source": [
    "# lets check for the graph \n",
    "x = linspace(-10,10,100)\n",
    "plotf(x,np.array([]),'Single variable funciton')"
   ]
  },
  {
   "cell_type": "markdown",
   "id": "c9350072",
   "metadata": {},
   "source": [
    "now lets write the gradient descent algorithm"
   ]
  },
  {
   "cell_type": "code",
   "execution_count": 18,
   "id": "938c630c",
   "metadata": {},
   "outputs": [
    {
     "ename": "SyntaxError",
     "evalue": "invalid syntax (1304963090.py, line 1)",
     "output_type": "error",
     "traceback": [
      "\u001b[1;36m  Input \u001b[1;32mIn [18]\u001b[1;36m\u001b[0m\n\u001b[1;33m    but before that lets calculate derivative\u001b[0m\n\u001b[1;37m        ^\u001b[0m\n\u001b[1;31mSyntaxError\u001b[0m\u001b[1;31m:\u001b[0m invalid syntax\n"
     ]
    }
   ],
   "source": [
    "but before that lets calculate derivative"
   ]
  },
  {
   "cell_type": "code",
   "execution_count": 19,
   "id": "7fb7dd63",
   "metadata": {},
   "outputs": [],
   "source": [
    "def derivative(x):\n",
    "    return 0.2*x + 0.2*x*cos(0.1*x**2)"
   ]
  },
  {
   "cell_type": "code",
   "execution_count": 20,
   "id": "92aa7041",
   "metadata": {},
   "outputs": [
    {
     "data": {
      "text/plain": [
       "0.3990008330556052"
      ]
     },
     "execution_count": 20,
     "metadata": {},
     "output_type": "execute_result"
    }
   ],
   "source": [
    "# lets check\n",
    "derivative(1)"
   ]
  },
  {
   "cell_type": "code",
   "execution_count": 21,
   "id": "e8fb9e17",
   "metadata": {},
   "outputs": [],
   "source": [
    "def grad_descent(derivative,x_prev,learning_rate):\n",
    "    #lets set the stoping goal first \n",
    "    epsilon = 0.001\n",
    "    \n",
    "    # lets also set the iteration count as well\n",
    "    grad_iter = 1\n",
    "    \n",
    "    # lets update the x_next , this is initial feeding of number to start the algo \n",
    "    x_next = x_prev - learning_rate*derivative(x_prev)\n",
    "    \n",
    "    # lets store all the values of x_next\n",
    "    sequence = np.array([])\n",
    "    sequence = np.append(sequence,x_next)\n",
    "    \n",
    "    while abs(x_next - x_prev) > epsilon:\n",
    "        \n",
    "        # for the next cycle we are setting the new x_prev to x_next and finding the new x_next\n",
    "        x_prev = x_next\n",
    "        \n",
    "        #updating the x_next\n",
    "        x_next = x_prev - learning_rate*derivative(x_prev)\n",
    "        \n",
    "        #appending the x_next\n",
    "        sequence = np.append(sequence, x_next)\n",
    "        \n",
    "        # keeping a track of the grad_iter\n",
    "        grad_iter += 1\n",
    "        \n",
    "    # geting out of loop to get the most recent x_next \n",
    "    return x_next,sequence,grad_iter\n",
    "        \n",
    "    \n",
    "    "
   ]
  },
  {
   "cell_type": "code",
   "execution_count": 22,
   "id": "1f2dc0b7",
   "metadata": {},
   "outputs": [
    {
     "data": {
      "text/plain": [
       "array([-10.        ,  -9.7979798 ,  -9.5959596 ,  -9.39393939,\n",
       "        -9.19191919,  -8.98989899,  -8.78787879,  -8.58585859,\n",
       "        -8.38383838,  -8.18181818,  -7.97979798,  -7.77777778,\n",
       "        -7.57575758,  -7.37373737,  -7.17171717,  -6.96969697,\n",
       "        -6.76767677,  -6.56565657,  -6.36363636,  -6.16161616,\n",
       "        -5.95959596,  -5.75757576,  -5.55555556,  -5.35353535,\n",
       "        -5.15151515,  -4.94949495,  -4.74747475,  -4.54545455,\n",
       "        -4.34343434,  -4.14141414,  -3.93939394,  -3.73737374,\n",
       "        -3.53535354,  -3.33333333,  -3.13131313,  -2.92929293,\n",
       "        -2.72727273,  -2.52525253,  -2.32323232,  -2.12121212,\n",
       "        -1.91919192,  -1.71717172,  -1.51515152,  -1.31313131,\n",
       "        -1.11111111,  -0.90909091,  -0.70707071,  -0.50505051,\n",
       "        -0.3030303 ,  -0.1010101 ,   0.1010101 ,   0.3030303 ,\n",
       "         0.50505051,   0.70707071,   0.90909091,   1.11111111,\n",
       "         1.31313131,   1.51515152,   1.71717172,   1.91919192,\n",
       "         2.12121212,   2.32323232,   2.52525253,   2.72727273,\n",
       "         2.92929293,   3.13131313,   3.33333333,   3.53535354,\n",
       "         3.73737374,   3.93939394,   4.14141414,   4.34343434,\n",
       "         4.54545455,   4.74747475,   4.94949495,   5.15151515,\n",
       "         5.35353535,   5.55555556,   5.75757576,   5.95959596,\n",
       "         6.16161616,   6.36363636,   6.56565657,   6.76767677,\n",
       "         6.96969697,   7.17171717,   7.37373737,   7.57575758,\n",
       "         7.77777778,   7.97979798,   8.18181818,   8.38383838,\n",
       "         8.58585859,   8.78787879,   8.98989899,   9.19191919,\n",
       "         9.39393939,   9.5959596 ,   9.7979798 ,  10.        ])"
      ]
     },
     "execution_count": 22,
     "metadata": {},
     "output_type": "execute_result"
    }
   ],
   "source": [
    "# we have values of x\n",
    "x"
   ]
  },
  {
   "cell_type": "code",
   "execution_count": 23,
   "id": "e550f255",
   "metadata": {},
   "outputs": [
    {
     "data": {
      "text/plain": [
       "array([-3.21856942e-01, -3.00195594e-02, -4.48169879e-02, -3.28335814e-01,\n",
       "       -8.07715794e-01, -1.39185131e+00, -1.98768344e+00, -2.51360392e+00,\n",
       "       -2.90855542e+00, -3.13643445e+00, -3.18622046e+00, -3.06878826e+00,\n",
       "       -2.81160335e+00, -2.45249649e+00, -2.03353555e+00, -1.59573736e+00,\n",
       "       -1.17505957e+00, -7.99834113e-01, -4.89582341e-01, -2.55000858e-01,\n",
       "       -9.88260250e-02, -1.72633670e-02, -1.69070936e-03, -4.03941716e-02,\n",
       "       -1.20159481e-01, -2.27605688e-01, -3.50206191e-01, -4.76988484e-01,\n",
       "       -5.98937402e-01, -7.09147463e-01, -8.02779733e-01, -8.76880120e-01,\n",
       "       -9.30111489e-01, -9.62444014e-01, -9.74838587e-01, -9.68948334e-01,\n",
       "       -9.46854447e-01, -9.10845010e-01, -8.63239668e-01, -8.06258758e-01,\n",
       "       -7.41932738e-01, -6.72046249e-01, -5.98110514e-01, -5.21357911e-01,\n",
       "       -4.42753086e-01, -3.63015796e-01, -2.82651588e-01, -2.01987343e-01,\n",
       "       -1.21209566e-01, -4.04040299e-02,  4.04040299e-02,  1.21209566e-01,\n",
       "        2.01987343e-01,  2.82651588e-01,  3.63015796e-01,  4.42753086e-01,\n",
       "        5.21357911e-01,  5.98110514e-01,  6.72046249e-01,  7.41932738e-01,\n",
       "        8.06258758e-01,  8.63239668e-01,  9.10845010e-01,  9.46854447e-01,\n",
       "        9.68948334e-01,  9.74838587e-01,  9.62444014e-01,  9.30111489e-01,\n",
       "        8.76880120e-01,  8.02779733e-01,  7.09147463e-01,  5.98937402e-01,\n",
       "        4.76988484e-01,  3.50206191e-01,  2.27605688e-01,  1.20159481e-01,\n",
       "        4.03941716e-02,  1.69070936e-03,  1.72633670e-02,  9.88260250e-02,\n",
       "        2.55000858e-01,  4.89582341e-01,  7.99834113e-01,  1.17505957e+00,\n",
       "        1.59573736e+00,  2.03353555e+00,  2.45249649e+00,  2.81160335e+00,\n",
       "        3.06878826e+00,  3.18622046e+00,  3.13643445e+00,  2.90855542e+00,\n",
       "        2.51360392e+00,  1.98768344e+00,  1.39185131e+00,  8.07715794e-01,\n",
       "        3.28335814e-01,  4.48169879e-02,  3.00195594e-02,  3.21856942e-01])"
      ]
     },
     "execution_count": 23,
     "metadata": {},
     "output_type": "execute_result"
    }
   ],
   "source": [
    "# we also have values of derivative of f(x)\n",
    "derivative(x)"
   ]
  },
  {
   "cell_type": "code",
   "execution_count": 28,
   "id": "5a9a5996",
   "metadata": {},
   "outputs": [
    {
     "name": "stdout",
     "output_type": "stream",
     "text": [
      "(0.0010847443742076144, array([4.80114362e+00, 4.48433435e+00, 3.96958325e+00, 3.17960662e+00,\n",
      "       2.20599693e+00, 1.37481782e+00, 8.29787719e-01, 4.98265877e-01,\n",
      "       2.98990236e-01, 1.79396531e-01, 1.07638105e-01, 6.45828772e-02,\n",
      "       3.87497274e-02, 2.32498365e-02, 1.39499019e-02, 8.36994116e-03,\n",
      "       5.02196470e-03, 3.01317882e-03, 1.80790729e-03, 1.08474437e-03]), 20)\n"
     ]
    }
   ],
   "source": [
    "grad_output=grad_descent(derivative,5,1)\n",
    "print(grad_output)"
   ]
  },
  {
   "cell_type": "code",
   "execution_count": 29,
   "id": "816e9449",
   "metadata": {},
   "outputs": [
    {
     "data": {
      "image/png": "[encoded data removed]",
      "text/plain": [
       "<Figure size 432x288 with 1 Axes>"
      ]
     },
     "metadata": {
      "needs_background": "light"
     },
     "output_type": "display_data"
    }
   ],
   "source": [
    "# lets see this on the graph remember we had set the xdot this is where the xdot will be used now\n",
    "plotf(x,grad_output[1],'single variable function')"
   ]
  },
  {
   "cell_type": "code",
   "execution_count": 32,
   "id": "8f4f3869",
   "metadata": {},
   "outputs": [
    {
     "data": {
      "text/plain": [
       "(-0.023683451492280558,\n",
       " array([-4.98011436, -4.95910916, -4.93690368, -4.91341102, -4.88853781,\n",
       "        -4.86218392, -4.83424221, -4.80459839, -4.77313102, -4.73971165,\n",
       "        -4.70420515, -4.66647039, -4.62636116, -4.58372762, -4.53841814,\n",
       "        -4.49028181, -4.43917154, -4.38494795, -4.32748387, -4.26666969,\n",
       "        -4.20241924, -4.13467611, -4.06342022, -3.98867406, -3.91050837,\n",
       "        -3.82904647, -3.74446699, -3.65700417, -3.56694574, -3.47462794,\n",
       "        -3.38042795, -3.2847542 , -3.18803498, -3.09070638, -2.99320031,\n",
       "        -2.89593345, -2.79929774, -2.70365288, -2.6093211 , -2.51658403,\n",
       "        -2.42568163, -2.33681273, -2.25013696, -2.16577756, -2.0838248 ,\n",
       "        -2.00433967, -1.92735768, -1.8528925 , -1.78093942, -1.7114785 ,\n",
       "        -1.64447733, -1.57989358, -1.51767706, -1.45777161, -1.40011661,\n",
       "        -1.34464827, -1.29130073, -1.24000691, -1.19069922, -1.14331019,\n",
       "        -1.09777286, -1.05402118, -1.01199029, -0.97161672, -0.93283858,\n",
       "        -0.89559563, -0.85982939, -0.82548319, -0.79250218, -0.76083334,\n",
       "        -0.7304255 , -0.70122926, -0.67319705, -0.64628299, -0.62044294,\n",
       "        -0.59563442, -0.57181654, -0.54894999, -0.52699697, -0.50592116,\n",
       "        -0.48568763, -0.46626282, -0.44761451, -0.42971173, -0.41252473,\n",
       "        -0.39602493, -0.38018491, -0.36497831, -0.35037982, -0.33636516,\n",
       "        -0.32291098, -0.30999489, -0.29759538, -0.2856918 , -0.27426432,\n",
       "        -0.2632939 , -0.25276227, -0.24265189, -0.23294589, -0.22362813,\n",
       "        -0.21468306, -0.20609578, -0.19785199, -0.18993794, -0.18234045,\n",
       "        -0.17504685, -0.16804499, -0.1613232 , -0.15487029, -0.14867548,\n",
       "        -0.14272847, -0.13701934, -0.13153857, -0.12627703, -0.12122595,\n",
       "        -0.11637692, -0.11172184, -0.10725297, -0.10296285, -0.09884434,\n",
       "        -0.09489057, -0.09109495, -0.08745115, -0.0839531 , -0.08059498,\n",
       "        -0.07737118, -0.07427633, -0.07130528, -0.06845307, -0.06571495,\n",
       "        -0.06308635, -0.0605629 , -0.05814038, -0.05581476, -0.05358217,\n",
       "        -0.05143889, -0.04938133, -0.04740608, -0.04550984, -0.04368944,\n",
       "        -0.04194186, -0.04026419, -0.03865362, -0.03710748, -0.03562318,\n",
       "        -0.03419825, -0.03283032, -0.03151711, -0.03025642, -0.02904617,\n",
       "        -0.02788432, -0.02676895, -0.02569819, -0.02467026, -0.02368345]),\n",
       " 155)"
      ]
     },
     "execution_count": 32,
     "metadata": {},
     "output_type": "execute_result"
    }
   ],
   "source": [
    "grad_descent(derivative,-5,0.1)"
   ]
  },
  {
   "cell_type": "code",
   "execution_count": 33,
   "id": "43fdfead",
   "metadata": {},
   "outputs": [
    {
     "data": {
      "image/png": "[encoded data removed]",
      "text/plain": [
       "<Figure size 432x288 with 1 Axes>"
      ]
     },
     "metadata": {
      "needs_background": "light"
     },
     "output_type": "display_data"
    }
   ],
   "source": [
    "plotf(x,grad_descent(derivative,-5,0.1)[1],'single variable function')"
   ]
  },
  {
   "cell_type": "code",
   "execution_count": 36,
   "id": "03ed2a76",
   "metadata": {},
   "outputs": [
    {
     "data": {
      "text/plain": [
       "(0.023960351578375973,\n",
       " array([0.096     , 0.09216   , 0.0884736 , 0.08493466, 0.08153727,\n",
       "        0.07827578, 0.07514475, 0.07213896, 0.0692534 , 0.06648327,\n",
       "        0.06382394, 0.06127098, 0.05882014, 0.05646733, 0.05420864,\n",
       "        0.0520403 , 0.04995868, 0.04796034, 0.04604192, 0.04420025,\n",
       "        0.04243224, 0.04073495, 0.03910555, 0.03754133, 0.03603967,\n",
       "        0.03459809, 0.03321416, 0.0318856 , 0.03061017, 0.02938577,\n",
       "        0.02821034, 0.02708192, 0.02599865, 0.0249587 , 0.02396035]),\n",
       " 35)"
      ]
     },
     "execution_count": 36,
     "metadata": {},
     "output_type": "execute_result"
    }
   ],
   "source": [
    "grad_descent(derivative,0.1,0.1)"
   ]
  },
  {
   "cell_type": "markdown",
   "id": "cd0e06b9",
   "metadata": {},
   "source": [
    "# lets try to do the gradient descent for 2 variable function "
   ]
  },
  {
   "cell_type": "markdown",
   "id": "38de2848",
   "metadata": {},
   "source": [
    "There are some methods which we will have to get ourself familiarize with  "
   ]
  },
  {
   "cell_type": "markdown",
   "id": "a0588341",
   "metadata": {},
   "source": [
    "https://www.sharpsightlabs.com/blog/numpy-meshgrid/"
   ]
  },
  {
   "cell_type": "code",
   "execution_count": 60,
   "id": "13eb7f41",
   "metadata": {},
   "outputs": [
    {
     "data": {
      "text/plain": [
       "[array([[1, 2, 3]]),\n",
       " array([[5],\n",
       "        [6],\n",
       "        [7]])]"
      ]
     },
     "execution_count": 60,
     "metadata": {},
     "output_type": "execute_result"
    }
   ],
   "source": [
    "# meshgrid\n",
    "meshgrid([1,2,3],[5,6,7], sparse = True)\n",
    "# we can use array instead of list in the argument"
   ]
  },
  {
   "cell_type": "code",
   "execution_count": 61,
   "id": "f86041df",
   "metadata": {},
   "outputs": [
    {
     "data": {
      "text/plain": [
       "[array([[1, 2, 3],\n",
       "        [1, 2, 3],\n",
       "        [1, 2, 3]]),\n",
       " array([[5, 5, 5],\n",
       "        [6, 6, 6],\n",
       "        [7, 7, 7]])]"
      ]
     },
     "execution_count": 61,
     "metadata": {},
     "output_type": "execute_result"
    }
   ],
   "source": [
    "meshgrid([1,2,3],[5,6,7], sparse = False)\n"
   ]
  },
  {
   "cell_type": "code",
   "execution_count": 62,
   "id": "94e2b83f",
   "metadata": {},
   "outputs": [],
   "source": [
    "# it basically creates point to create a 3d plot"
   ]
  },
  {
   "cell_type": "code",
   "execution_count": 67,
   "id": "43bb9c1f",
   "metadata": {},
   "outputs": [],
   "source": [
    "# Matrix computations\n",
    "#from numpy import *\n",
    "\n",
    "# Plotting\n",
    "#from matplotlib.pyplot import *\n",
    "\n",
    "# Change size of figures\n",
    "fig_size = [9,7]\n",
    "rcParams[\"figure.figsize\"] = fig_size"
   ]
  },
  {
   "cell_type": "code",
   "execution_count": 70,
   "id": "45b382f0",
   "metadata": {},
   "outputs": [
    {
     "name": "stderr",
     "output_type": "stream",
     "text": [
      "C:\\Users\\Deepu\\AppData\\Local\\Temp\\ipykernel_9232\\1701464781.py:21: MatplotlibDeprecationWarning: Calling gca() with keyword arguments was deprecated in Matplotlib 3.4. Starting two minor releases later, gca() will take no keyword arguments. The gca() function should only be used to get the current axes, or if no axes exist, create new axes with default keyword arguments. To create a new axes with non-default arguments, use plt.axes() or plt.subplot().\n",
      "  ax = fig.gca(projection='3d')\n"
     ]
    },
    {
     "data": {
      "image/png": "[encoded data removed]",
      "text/plain": [
       "<Figure size 648x504 with 2 Axes>"
      ]
     },
     "metadata": {
      "needs_background": "light"
     },
     "output_type": "display_data"
    }
   ],
   "source": [
    "# Plotting in 3D\n",
    "from mpl_toolkits.mplot3d import Axes3D\n",
    "from matplotlib import cm\n",
    "from matplotlib.ticker import LinearLocator, FormatStrFormatter\n",
    "\n",
    "# f(x,y) = x^2 + y^2 + 1\n",
    "def f(x,y):\n",
    "    return x**2 + y**2 + 1\n",
    "\n",
    "# (X,Y) grid on [-5,5]\n",
    "y = arange(-5, 5, 0.25)\n",
    "y = arange(-5, 5, 0.25)\n",
    "X, Y = meshgrid(x, y)\n",
    "\n",
    "\n",
    "# z = x^2 + y^2\n",
    "Z = f(X,Y)\n",
    "\n",
    "# Plot (X,Y) in 3D\n",
    "fig = figure(1)\n",
    "ax = fig.gca(projection='3d')\n",
    "surf = ax.plot_surface(X, Y, Z, rstride=1, cstride=1, cmap=cm.RdBu,linewidth=0, antialiased=False)\n",
    "\n",
    "ax.zaxis.set_major_locator(LinearLocator(10))\n",
    "ax.zaxis.set_major_formatter(FormatStrFormatter('%.02f'))\n",
    "fig.colorbar(surf, shrink = 0.7, aspect=5)\n",
    "show()"
   ]
  },
  {
   "cell_type": "code",
   "execution_count": 78,
   "id": "41994898",
   "metadata": {},
   "outputs": [
    {
     "name": "stdout",
     "output_type": "stream",
     "text": [
      "Final values: x = 2.0370359763344877e-10 , y = 2.0370359763344877e-10\n",
      "[1.00000000e+00 8.00000000e-01 6.40000000e-01 5.12000000e-01\n",
      " 4.09600000e-01 3.27680000e-01 2.62144000e-01 2.09715200e-01\n",
      " 1.67772160e-01 1.34217728e-01 1.07374182e-01 8.58993459e-02\n",
      " 6.87194767e-02 5.49755814e-02 4.39804651e-02 3.51843721e-02\n",
      " 2.81474977e-02 2.25179981e-02 1.80143985e-02 1.44115188e-02\n",
      " 1.15292150e-02 9.22337204e-03 7.37869763e-03 5.90295810e-03\n",
      " 4.72236648e-03 3.77789319e-03 3.02231455e-03 2.41785164e-03\n",
      " 1.93428131e-03 1.54742505e-03 1.23794004e-03 9.90352031e-04\n",
      " 7.92281625e-04 6.33825300e-04 5.07060240e-04 4.05648192e-04\n",
      " 3.24518554e-04 2.59614843e-04 2.07691874e-04 1.66153499e-04\n",
      " 1.32922800e-04 1.06338240e-04 8.50705917e-05 6.80564734e-05\n",
      " 5.44451787e-05 4.35561430e-05 3.48449144e-05 2.78759315e-05\n",
      " 2.23007452e-05 1.78405962e-05 1.42724769e-05 1.14179815e-05\n",
      " 9.13438523e-06 7.30750819e-06 5.84600655e-06 4.67680524e-06\n",
      " 3.74144419e-06 2.99315535e-06 2.39452428e-06 1.91561943e-06\n",
      " 1.53249554e-06 1.22599643e-06 9.80797146e-07 7.84637717e-07\n",
      " 6.27710174e-07 5.02168139e-07 4.01734511e-07 3.21387609e-07\n",
      " 2.57110087e-07 2.05688070e-07 1.64550456e-07 1.31640365e-07\n",
      " 1.05312292e-07 8.42498333e-08 6.73998667e-08 5.39198933e-08\n",
      " 4.31359147e-08 3.45087317e-08 2.76069854e-08 2.20855883e-08\n",
      " 1.76684706e-08 1.41347765e-08 1.13078212e-08 9.04625697e-09\n",
      " 7.23700558e-09 5.78960446e-09 4.63168357e-09 3.70534686e-09\n",
      " 2.96427748e-09 2.37142199e-09 1.89713759e-09 1.51771007e-09\n",
      " 1.21416806e-09 9.71334446e-10 7.77067557e-10 6.21654046e-10\n",
      " 4.97323236e-10 3.97858589e-10 3.18286871e-10 2.54629497e-10\n",
      " 2.03703598e-10]\n",
      "[1.00000000e+00 8.00000000e-01 6.40000000e-01 5.12000000e-01\n",
      " 4.09600000e-01 3.27680000e-01 2.62144000e-01 2.09715200e-01\n",
      " 1.67772160e-01 1.34217728e-01 1.07374182e-01 8.58993459e-02\n",
      " 6.87194767e-02 5.49755814e-02 4.39804651e-02 3.51843721e-02\n",
      " 2.81474977e-02 2.25179981e-02 1.80143985e-02 1.44115188e-02\n",
      " 1.15292150e-02 9.22337204e-03 7.37869763e-03 5.90295810e-03\n",
      " 4.72236648e-03 3.77789319e-03 3.02231455e-03 2.41785164e-03\n",
      " 1.93428131e-03 1.54742505e-03 1.23794004e-03 9.90352031e-04\n",
      " 7.92281625e-04 6.33825300e-04 5.07060240e-04 4.05648192e-04\n",
      " 3.24518554e-04 2.59614843e-04 2.07691874e-04 1.66153499e-04\n",
      " 1.32922800e-04 1.06338240e-04 8.50705917e-05 6.80564734e-05\n",
      " 5.44451787e-05 4.35561430e-05 3.48449144e-05 2.78759315e-05\n",
      " 2.23007452e-05 1.78405962e-05 1.42724769e-05 1.14179815e-05\n",
      " 9.13438523e-06 7.30750819e-06 5.84600655e-06 4.67680524e-06\n",
      " 3.74144419e-06 2.99315535e-06 2.39452428e-06 1.91561943e-06\n",
      " 1.53249554e-06 1.22599643e-06 9.80797146e-07 7.84637717e-07\n",
      " 6.27710174e-07 5.02168139e-07 4.01734511e-07 3.21387609e-07\n",
      " 2.57110087e-07 2.05688070e-07 1.64550456e-07 1.31640365e-07\n",
      " 1.05312292e-07 8.42498333e-08 6.73998667e-08 5.39198933e-08\n",
      " 4.31359147e-08 3.45087317e-08 2.76069854e-08 2.20855883e-08\n",
      " 1.76684706e-08 1.41347765e-08 1.13078212e-08 9.04625697e-09\n",
      " 7.23700558e-09 5.78960446e-09 4.63168357e-09 3.70534686e-09\n",
      " 2.96427748e-09 2.37142199e-09 1.89713759e-09 1.51771007e-09\n",
      " 1.21416806e-09 9.71334446e-10 7.77067557e-10 6.21654046e-10\n",
      " 4.97323236e-10 3.97858589e-10 3.18286871e-10 2.54629497e-10\n",
      " 2.03703598e-10]\n"
     ]
    }
   ],
   "source": [
    "# Gradient Descent Algorithm for f(x, y) = x^2 + y^2\n",
    "\n",
    "# Step size (learning rate)\n",
    "alpha = 0.1\n",
    "\n",
    "# Initial values for x and y\n",
    "x = 1.0\n",
    "y = 1.0\n",
    "\n",
    "x_array = np.array([])\n",
    "x_array = np.append(x_array,x)\n",
    "y_array = np.array([])\n",
    "y_array = np.append(y_array,y)\n",
    "\n",
    "# Maximum number of iterations\n",
    "max_iterations = 100\n",
    "\n",
    "# Initialize iteration counter\n",
    "iterations = 0\n",
    "\n",
    "# Define the gradient descent loop\n",
    "while iterations < max_iterations:\n",
    "    # Calculate the gradients of f(x, y) with respect to x and y\n",
    "    gradient_x = 2 * x\n",
    "    gradient_y = 2 * y\n",
    "    \n",
    "    # Update the values of x and y using gradient descent\n",
    "    x -= alpha * gradient_x\n",
    "    y -= alpha * gradient_y\n",
    "    \n",
    "    x_array = np.append(x_array,x)\n",
    "    y_array = np.append(y_array,y)\n",
    "    \n",
    "    # Increment the iteration counter\n",
    "    iterations += 1\n",
    "\n",
    "# Print the final values of x and y\n",
    "print(\"Final values: x =\", x, \", y =\", y)\n",
    "print(x_array)\n",
    "print(y_array)"
   ]
  },
  {
   "cell_type": "code",
   "execution_count": 83,
   "id": "35d00ad3",
   "metadata": {},
   "outputs": [],
   "source": [
    "def del_x(x):\n",
    "    return 2*x\n",
    "\n",
    "def del_y(y):\n",
    "    return 2*y"
   ]
  },
  {
   "cell_type": "code",
   "execution_count": 85,
   "id": "1f0dee49",
   "metadata": {},
   "outputs": [
    {
     "data": {
      "text/plain": [
       "4"
      ]
     },
     "execution_count": 85,
     "metadata": {},
     "output_type": "execute_result"
    }
   ],
   "source": [
    "del_y(2)"
   ]
  },
  {
   "cell_type": "code",
   "execution_count": 108,
   "id": "74295243",
   "metadata": {},
   "outputs": [],
   "source": [
    "import math \n",
    "x = 1\n",
    "y = 1\n",
    "\n",
    "x_n = x*0.5\n",
    "y_n = y*0.3\n",
    "while math.sqrt((y-y_n)**2 - (x-x_n)**2) < 0.1:\n",
    "    x = x_n\n",
    "    y = y_n\n",
    "    print('hey')\n",
    "    \n"
   ]
  },
  {
   "cell_type": "code",
   "execution_count": 99,
   "id": "11703466",
   "metadata": {},
   "outputs": [
    {
     "name": "stdout",
     "output_type": "stream",
     "text": [
      "0.3\n"
     ]
    }
   ],
   "source": [
    "print(y_n)"
   ]
  },
  {
   "cell_type": "code",
   "execution_count": 93,
   "id": "63d1d817",
   "metadata": {},
   "outputs": [
    {
     "data": {
      "text/plain": [
       "2.0"
      ]
     },
     "execution_count": 93,
     "metadata": {},
     "output_type": "execute_result"
    }
   ],
   "source": [
    "math.sqrt(4)"
   ]
  },
  {
   "cell_type": "code",
   "execution_count": 175,
   "id": "50e0cf43",
   "metadata": {},
   "outputs": [],
   "source": [
    "def grad_des(del_x,del_y,x_prev,y_prev,learning_rate):\n",
    "    epsilon = 0.001\n",
    "    \n",
    "    grad_iter = 1\n",
    "    \n",
    "    x_next = x_prev - learning_rate*del_x(x_prev)\n",
    "    y_next = x_prev - learning_rate*del_y(y_prev)\n",
    "    \n",
    "    sequence_x = np.array([])\n",
    "    sequence_x = np.append(sequence_x,x_next)\n",
    "    \n",
    "    sequence_y = np.array([])\n",
    "    sequence_y = np.append(sequence_y,y_next)\n",
    "    \n",
    "    while abs(math.sqrt((y_prev - y_next)**2-(x_prev-x_next)**2)) < epsilon:\n",
    "        x_prev = x_next \n",
    "        y_prev = y_next\n",
    "        \n",
    "        x_next = x_prev - learning_rate*del_x(x_prev)\n",
    "        y_next = y_prev - learning_rate*del_x(x_prev)\n",
    "        \n",
    "        sequence_x = np.append(sequence_x,x_next)\n",
    "        sequence_y = np.append(sequence_y,y_next)\n",
    "        \n",
    "        grad_iter += 1\n",
    "    \n",
    "    return x_next,x_prev,sequence_x,sequence_y,grad_iter\n",
    "        "
   ]
  },
  {
   "cell_type": "code",
   "execution_count": 176,
   "id": "641e729e",
   "metadata": {},
   "outputs": [
    {
     "ename": "KeyboardInterrupt",
     "evalue": "",
     "output_type": "error",
     "traceback": [
      "\u001b[1;31m---------------------------------------------------------------------------\u001b[0m",
      "\u001b[1;31mKeyboardInterrupt\u001b[0m                         Traceback (most recent call last)",
      "Input \u001b[1;32mIn [176]\u001b[0m, in \u001b[0;36m<cell line: 1>\u001b[1;34m()\u001b[0m\n\u001b[1;32m----> 1\u001b[0m \u001b[43mgrad_des\u001b[49m\u001b[43m(\u001b[49m\u001b[43mdel_x\u001b[49m\u001b[43m,\u001b[49m\u001b[43mdel_y\u001b[49m\u001b[43m,\u001b[49m\u001b[38;5;241;43m1.8\u001b[39;49m\u001b[43m,\u001b[49m\u001b[38;5;241;43m1.8\u001b[39;49m\u001b[43m,\u001b[49m\u001b[38;5;241;43m0.1\u001b[39;49m\u001b[43m)\u001b[49m\n",
      "Input \u001b[1;32mIn [175]\u001b[0m, in \u001b[0;36mgrad_des\u001b[1;34m(del_x, del_y, x_prev, y_prev, learning_rate)\u001b[0m\n\u001b[0;32m     19\u001b[0m x_next \u001b[38;5;241m=\u001b[39m x_prev \u001b[38;5;241m-\u001b[39m learning_rate\u001b[38;5;241m*\u001b[39mdel_x(x_prev)\n\u001b[0;32m     20\u001b[0m y_next \u001b[38;5;241m=\u001b[39m y_prev \u001b[38;5;241m-\u001b[39m learning_rate\u001b[38;5;241m*\u001b[39mdel_x(x_prev)\n\u001b[1;32m---> 22\u001b[0m sequence_x \u001b[38;5;241m=\u001b[39m \u001b[43mnp\u001b[49m\u001b[38;5;241;43m.\u001b[39;49m\u001b[43mappend\u001b[49m\u001b[43m(\u001b[49m\u001b[43msequence_x\u001b[49m\u001b[43m,\u001b[49m\u001b[43mx_next\u001b[49m\u001b[43m)\u001b[49m\n\u001b[0;32m     23\u001b[0m sequence_y \u001b[38;5;241m=\u001b[39m np\u001b[38;5;241m.\u001b[39mappend(sequence_y,y_next)\n\u001b[0;32m     25\u001b[0m grad_iter \u001b[38;5;241m+\u001b[39m\u001b[38;5;241m=\u001b[39m \u001b[38;5;241m1\u001b[39m\n",
      "File \u001b[1;32m<__array_function__ internals>:5\u001b[0m, in \u001b[0;36mappend\u001b[1;34m(*args, **kwargs)\u001b[0m\n",
      "File \u001b[1;32mC:\\ProgramData\\Anaconda3\\lib\\site-packages\\numpy\\lib\\function_base.py:4817\u001b[0m, in \u001b[0;36mappend\u001b[1;34m(arr, values, axis)\u001b[0m\n\u001b[0;32m   4815\u001b[0m     values \u001b[38;5;241m=\u001b[39m ravel(values)\n\u001b[0;32m   4816\u001b[0m     axis \u001b[38;5;241m=\u001b[39m arr\u001b[38;5;241m.\u001b[39mndim\u001b[38;5;241m-\u001b[39m\u001b[38;5;241m1\u001b[39m\n\u001b[1;32m-> 4817\u001b[0m \u001b[38;5;28;01mreturn\u001b[39;00m \u001b[43mconcatenate\u001b[49m\u001b[43m(\u001b[49m\u001b[43m(\u001b[49m\u001b[43marr\u001b[49m\u001b[43m,\u001b[49m\u001b[43m \u001b[49m\u001b[43mvalues\u001b[49m\u001b[43m)\u001b[49m\u001b[43m,\u001b[49m\u001b[43m \u001b[49m\u001b[43maxis\u001b[49m\u001b[38;5;241;43m=\u001b[39;49m\u001b[43maxis\u001b[49m\u001b[43m)\u001b[49m\n",
      "File \u001b[1;32m<__array_function__ internals>:5\u001b[0m, in \u001b[0;36mconcatenate\u001b[1;34m(*args, **kwargs)\u001b[0m\n",
      "\u001b[1;31mKeyboardInterrupt\u001b[0m: "
     ]
    }
   ],
   "source": [
    "grad_des(del_x,del_y,1.8,1.8,0.1)"
   ]
  },
  {
   "cell_type": "code",
   "execution_count": 163,
   "id": "e8800d40",
   "metadata": {},
   "outputs": [],
   "source": [
    "x_prev ,y_prev,learning_rate= 1,1,0.1"
   ]
  },
  {
   "cell_type": "code",
   "execution_count": 164,
   "id": "acbf15c6",
   "metadata": {},
   "outputs": [
    {
     "data": {
      "text/plain": [
       "(0.8, 0.8)"
      ]
     },
     "execution_count": 164,
     "metadata": {},
     "output_type": "execute_result"
    }
   ],
   "source": [
    "x_next = x_prev - learning_rate*del_x(x_prev)\n",
    "y_next = x_prev - learning_rate*del_y(y_prev)\n",
    "x_next,y_next"
   ]
  },
  {
   "cell_type": "code",
   "execution_count": 165,
   "id": "b4c4ee3b",
   "metadata": {},
   "outputs": [
    {
     "data": {
      "text/plain": [
       "0.0"
      ]
     },
     "execution_count": 165,
     "metadata": {},
     "output_type": "execute_result"
    }
   ],
   "source": [
    "math.sqrt((y_prev - y_next)**2-(x_prev-x_next)**2)"
   ]
  },
  {
   "cell_type": "code",
   "execution_count": 166,
   "id": "bcd3c721",
   "metadata": {},
   "outputs": [
    {
     "data": {
      "text/plain": [
       "False"
      ]
     },
     "execution_count": 166,
     "metadata": {},
     "output_type": "execute_result"
    }
   ],
   "source": [
    "0.0 > 0.001"
   ]
  },
  {
   "cell_type": "code",
   "execution_count": 177,
   "id": "599238b7",
   "metadata": {},
   "outputs": [
    {
     "name": "stdout",
     "output_type": "stream",
     "text": [
      "Final values: x = 2.0370359763344877e-10 , y = 2.0370359763344877e-10\n",
      "Minimum value of f(x, y) = 8.299031137761999e-20\n"
     ]
    }
   ],
   "source": [
    "import numpy as np\n",
    "\n",
    "# Gradient Descent Algorithm for f(x, y) = x^2 + y^2\n",
    "\n",
    "# Step size (learning rate)\n",
    "alpha = 0.1\n",
    "\n",
    "# Initial column matrix [x, y]\n",
    "x = np.array([[1.0], [1.0]])\n",
    "\n",
    "# Maximum number of iterations\n",
    "max_iterations = 100\n",
    "\n",
    "# Initialize iteration counter\n",
    "iterations = 0\n",
    "\n",
    "# Define the gradient descent loop\n",
    "while iterations < max_iterations:\n",
    "    # Calculate the gradient of f(x, y)\n",
    "    gradient = 2 * x\n",
    "    \n",
    "    # Update the values of x using gradient descent\n",
    "    x -= alpha * gradient\n",
    "    \n",
    "    # Increment the iteration counter\n",
    "    iterations += 1\n",
    "\n",
    "# Extract the final values of x and y\n",
    "final_x, final_y = x.flatten()\n",
    "\n",
    "# Calculate the minimum value of f(x, y)\n",
    "minimum_value = final_x**2 + final_y**2\n",
    "\n",
    "# Print the final values of x, y, and the minimum value\n",
    "print(\"Final values: x =\", final_x, \", y =\", final_y)\n",
    "print(\"Minimum value of f(x, y) =\", minimum_value)\n"
   ]
  },
  {
   "cell_type": "markdown",
   "id": "5fbfdda2",
   "metadata": {},
   "source": [
    "# assignment - multiple variable function "
   ]
  },
  {
   "cell_type": "code",
   "execution_count": null,
   "id": "7f47df2c",
   "metadata": {},
   "outputs": [],
   "source": []
  }
 ],
 "metadata": {
  "kernelspec": {
   "display_name": "Python 3 (ipykernel)",
   "language": "python",
   "name": "python3"
  },
  "language_info": {
   "codemirror_mode": {
    "name": "ipython",
    "version": 3
   },
   "file_extension": ".py",
   "mimetype": "text/x-python",
   "name": "python",
   "nbconvert_exporter": "python",
   "pygments_lexer": "ipython3",
   "version": "3.9.12"
  }
 },
 "nbformat": 4,
 "nbformat_minor": 5
}
