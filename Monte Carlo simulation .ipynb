{
 "cells": [
  {
   "cell_type": "markdown",
   "id": "b40c9b1e",
   "metadata": {},
   "source": [
    "# Monte carlo simulation "
   ]
  },
  {
   "cell_type": "markdown",
   "id": "d0c3e093",
   "metadata": {},
   "source": [
    "Gist: we have a data set already we have figured out how are the independent variables distributed we have created n numbers of look allike data points using distributions and then findind the dependent variable , Now we have a bunch of dependent variable we are taking the normal distribution of that and predicting the possible range  "
   ]
  },
  {
   "cell_type": "markdown",
   "id": "898b2fe1",
   "metadata": {},
   "source": [
    "importing the libraries "
   ]
  },
  {
   "cell_type": "code",
   "execution_count": 1,
   "id": "a90e92f1",
   "metadata": {},
   "outputs": [],
   "source": [
    "import pandas as pd\n",
    "import numpy as np\n",
    "from scipy.stats import norm\n",
    "from scipy.stats import uniform\n",
    "import seaborn as sns\n",
    "import matplotlib.pyplot as plt\n",
    "\n",
    "sns.set_style('whitegrid')"
   ]
  },
  {
   "cell_type": "markdown",
   "id": "ed4b6583",
   "metadata": {},
   "source": [
    "# line of rough codes to understand the concept"
   ]
  },
  {
   "cell_type": "markdown",
   "id": "1a60ea98",
   "metadata": {},
   "source": [
    "# The norm.rvs method is used to generate a set of datapoint which upon ploting gives a normal distribution "
   ]
  },
  {
   "cell_type": "code",
   "execution_count": 17,
   "id": "99ddc2ae",
   "metadata": {},
   "outputs": [
    {
     "data": {
      "text/plain": [
       "array([0.95, 0.95, 0.99, 1.05, 1.05, 1.07, 0.91, 1.15, 1.05, 0.9 ])"
      ]
     },
     "execution_count": 17,
     "metadata": {},
     "output_type": "execute_result"
    }
   ],
   "source": [
    "norm.rvs(1,0.1,10).round(2)"
   ]
  },
  {
   "cell_type": "markdown",
   "id": "bd0e4565",
   "metadata": {},
   "source": [
    "we are taking 1 and not 100 for easy calculation "
   ]
  },
  {
   "cell_type": "code",
   "execution_count": 25,
   "id": "f0bcab8f",
   "metadata": {},
   "outputs": [
    {
     "name": "stderr",
     "output_type": "stream",
     "text": [
      "C:\\ProgramData\\Anaconda3\\lib\\site-packages\\seaborn\\distributions.py:2619: FutureWarning: `distplot` is a deprecated function and will be removed in a future version. Please adapt your code to use either `displot` (a figure-level function with similar flexibility) or `histplot` (an axes-level function for histograms).\n",
      "  warnings.warn(msg, FutureWarning)\n"
     ]
    },
    {
     "data": {
      "text/plain": [
       "<AxesSubplot:ylabel='Density'>"
      ]
     },
     "execution_count": 25,
     "metadata": {},
     "output_type": "execute_result"
    },
    {
     "data": {
      "image/png": "[encoded data removed]",
      "text/plain": [
       "<Figure size 432x288 with 1 Axes>"
      ]
     },
     "metadata": {},
     "output_type": "display_data"
    }
   ],
   "source": [
    "# lets check if it actually produces the normal distribution set of numbers \n",
    "sns.distplot(norm.rvs(1,0.1,500),color = 'green')"
   ]
  },
  {
   "cell_type": "code",
   "execution_count": null,
   "id": "5743898d",
   "metadata": {},
   "outputs": [],
   "source": [
    "#the argument of the above method is \n",
    "norm.rvs(mean,std_deviation,reps)\n",
    "# the mean is the value around which our random variables are generated with the given std( how close/far the datapoints are \n",
    "# spread)"
   ]
  },
  {
   "cell_type": "markdown",
   "id": "ad2a77a7",
   "metadata": {},
   "source": [
    "# What does the np.random.choice do here in this notebook \n",
    "\n",
    "To understand this lets consider that you have a coin and there is a 50% chance of geting head and 50% chance of getting tail lets assume you tossed it 10 times how would the outcomes look like so by using the np.random.choice we can get the entire event "
   ]
  },
  {
   "cell_type": "code",
   "execution_count": 36,
   "id": "9a66f7e1",
   "metadata": {},
   "outputs": [
    {
     "data": {
      "text/plain": [
       "array(['T', 'H', 'H', 'T', 'T', 'T', 'H', 'H', 'H', 'H'], dtype='<U1')"
      ]
     },
     "execution_count": 36,
     "metadata": {},
     "output_type": "execute_result"
    }
   ],
   "source": [
    "toss = ('H','T')\n",
    "prob = (.5,.5)\n",
    "np.random.choice(toss,10,p = prob)"
   ]
  },
  {
   "cell_type": "code",
   "execution_count": 38,
   "id": "0df9aaeb",
   "metadata": {},
   "outputs": [
    {
     "data": {
      "text/plain": [
       "array([3, 6, 5, 2, 4, 4, 1, 4, 3, 4])"
      ]
     },
     "execution_count": 38,
     "metadata": {},
     "output_type": "execute_result"
    }
   ],
   "source": [
    "# lets do for the dice as well\n",
    "roll = (1,2,3,4,5,6)\n",
    "prob_d =(1/6,1/6,1/6,1/6,1/6,1/6)\n",
    "np.random.choice(roll,10,p = prob_d)"
   ]
  },
  {
   "cell_type": "markdown",
   "id": "a12e9155",
   "metadata": {},
   "source": [
    "arguments of np.random.choice is \n",
    "\n",
    "np.random.choice(sample_space,no_of_trials,p = probability_of_each_event)"
   ]
  },
  {
   "cell_type": "markdown",
   "id": "1dc85525",
   "metadata": {},
   "source": [
    "# lets start"
   ]
  },
  {
   "cell_type": "markdown",
   "id": "0c62152c",
   "metadata": {},
   "source": [
    "We alread have the data of sales, target,incentives etc  of only last year \n",
    "\n",
    "we are supposed to calculate what should be the budget for the next year "
   ]
  },
  {
   "cell_type": "markdown",
   "id": "3293ef44",
   "metadata": {},
   "source": [
    "There are certain thing which we have been given,\n",
    "\n",
    "It has been found out that the target variable follows a normal distribution curve"
   ]
  },
  {
   "cell_type": "markdown",
   "id": "0a2cabd6",
   "metadata": {},
   "source": [
    "we have the data points of the complete sales target which is around 100 percent\n",
    "\n",
    "lets create a normal distribution of that data first "
   ]
  },
  {
   "cell_type": "code",
   "execution_count": 18,
   "id": "c17c5fdb",
   "metadata": {},
   "outputs": [
    {
     "data": {
      "text/plain": [
       "array([0.93, 1.03, 0.82, 0.91, 1.07, 1.11, 1.  , 1.01, 1.09, 0.86, 0.96,\n",
       "       0.87, 0.9 , 1.12, 1.  , 0.87, 0.96, 1.08, 0.83, 1.14, 0.92, 1.14,\n",
       "       0.92, 1.  , 1.21, 0.89, 1.01, 0.94, 0.85, 0.96, 1.07, 0.89, 0.78,\n",
       "       0.94, 1.06, 1.18, 1.  , 1.03, 1.03, 0.94, 1.01, 0.92, 1.08, 1.09,\n",
       "       0.97, 1.  , 1.08, 1.06, 0.98, 0.93, 0.86, 0.96, 0.87, 0.98, 0.99,\n",
       "       1.11, 1.04, 0.97, 0.88, 0.99, 0.91, 0.89, 1.01, 0.95, 1.04, 1.14,\n",
       "       0.98, 0.94, 1.17, 1.03, 0.88, 0.97, 1.11, 0.9 , 1.08, 0.95, 1.06,\n",
       "       1.02, 1.11, 0.89, 1.03, 0.93, 0.9 , 0.96, 0.95, 0.86, 1.03, 1.06,\n",
       "       1.21, 1.11, 1.09, 0.97, 1.11, 0.97, 0.94, 1.1 , 1.1 , 1.03, 1.09,\n",
       "       0.93, 0.94, 1.14, 1.01, 1.07, 1.15, 1.13, 0.99, 1.  , 1.17, 0.94,\n",
       "       0.97, 1.01, 1.05, 1.01, 0.95, 0.96, 0.88, 1.13, 0.91, 0.94, 1.04,\n",
       "       1.16, 0.95, 1.04, 1.  , 0.99, 1.  , 1.05, 0.94, 0.98, 0.93, 0.94,\n",
       "       1.05, 0.85, 1.07, 1.09, 0.99, 0.8 , 0.96, 1.24, 1.03, 0.86, 1.02,\n",
       "       1.05, 1.05, 1.04, 1.11, 1.02, 0.9 , 0.91, 1.03, 1.1 , 1.05, 1.05,\n",
       "       1.11, 0.96, 0.95, 1.1 , 0.96, 1.  , 1.09, 1.07, 0.94, 1.  , 1.07,\n",
       "       0.92, 1.15, 1.01, 1.14, 1.08, 1.1 , 1.05, 1.04, 0.99, 1.07, 0.82,\n",
       "       1.02, 0.85, 1.03, 1.  , 0.95, 0.81, 1.06, 0.92, 0.97, 1.06, 0.95,\n",
       "       0.92, 0.86, 0.82, 0.89, 0.93, 0.95, 0.9 , 0.96, 1.06, 0.98, 0.94,\n",
       "       1.  , 1.03, 0.94, 1.18, 0.95, 1.03, 0.86, 1.06, 1.17, 0.98, 0.98,\n",
       "       1.08, 0.97, 0.93, 1.06, 1.07, 0.93, 0.96, 0.98, 0.98, 1.24, 1.09,\n",
       "       0.96, 0.95, 1.04, 1.02, 1.13, 1.08, 0.91, 0.99, 0.93, 0.96, 0.92,\n",
       "       1.07, 1.09, 0.97, 1.1 , 0.84, 0.99, 0.93, 1.  , 1.03, 1.06, 0.91,\n",
       "       1.01, 0.84, 1.  , 1.16, 1.07, 1.13, 1.  , 1.03, 1.06, 0.92, 1.06,\n",
       "       1.06, 0.97, 1.03, 1.09, 1.04, 1.05, 0.93, 1.04, 1.04, 0.86, 1.  ,\n",
       "       0.84, 1.03, 0.71, 1.11, 1.03, 0.83, 1.03, 0.93, 1.07, 0.89, 1.1 ,\n",
       "       0.99, 0.95, 0.89, 0.94, 0.98, 0.89, 1.09, 1.18, 0.97, 0.9 , 0.77,\n",
       "       0.95, 1.04, 0.83, 1.02, 1.1 , 0.89, 1.06, 0.98, 1.18, 1.06, 0.93,\n",
       "       1.08, 1.1 , 0.81, 1.01, 0.99, 1.03, 1.  , 1.13, 0.9 , 1.08, 0.94,\n",
       "       1.11, 1.08, 1.01, 0.96, 1.01, 0.89, 0.99, 0.91, 0.91, 1.13, 1.13,\n",
       "       1.32, 0.8 , 0.9 , 0.94, 1.02, 0.9 , 0.87, 1.14, 0.93, 0.97, 1.02,\n",
       "       0.99, 1.01, 0.96, 0.99, 0.89, 1.2 , 1.04, 1.04, 1.1 , 1.05, 1.05,\n",
       "       1.29, 1.15, 0.95, 0.75, 1.06, 0.92, 0.79, 0.81, 1.16, 0.95, 0.99,\n",
       "       1.1 , 0.97, 1.18, 1.12, 1.01, 0.81, 0.92, 1.08, 0.96, 1.05, 0.84,\n",
       "       1.03, 0.98, 1.21, 1.07, 0.96, 1.14, 0.9 , 0.94, 1.04, 1.  , 1.08,\n",
       "       0.87, 1.07, 1.01, 1.02, 1.02, 0.9 , 1.19, 0.91, 1.02, 0.87, 0.97,\n",
       "       1.08, 0.9 , 1.03, 1.16, 0.97, 1.04, 1.09, 1.15, 0.95, 0.93, 0.96,\n",
       "       0.94, 1.03, 0.86, 1.27, 1.03, 1.03, 0.93, 0.88, 1.02, 0.98, 1.04,\n",
       "       0.99, 1.05, 1.09, 1.17, 0.99, 1.16, 1.01, 0.87, 0.83, 1.09, 0.96,\n",
       "       0.9 , 1.13, 0.98, 1.17, 1.11, 0.98, 0.99, 1.  , 1.16, 1.04, 1.02,\n",
       "       1.06, 0.91, 0.87, 1.09, 1.06, 1.08, 0.89, 0.99, 1.05, 0.87, 1.1 ,\n",
       "       0.87, 1.  , 0.88, 1.03, 1.03, 1.09, 0.98, 1.1 , 1.07, 1.2 , 1.12,\n",
       "       1.15, 1.18, 1.04, 0.9 , 0.98, 1.23, 1.1 , 1.04, 0.96, 0.94, 1.08,\n",
       "       1.07, 0.78, 1.05, 1.02, 1.02, 0.85, 0.93, 0.98, 1.04, 0.95, 0.99,\n",
       "       0.99, 1.03, 1.19, 1.05, 1.03, 1.11, 1.13, 1.06, 0.97, 1.06, 1.11,\n",
       "       0.92, 0.87, 0.89, 1.01, 1.  , 0.9 , 1.  , 0.87, 1.04, 1.05, 1.  ,\n",
       "       0.97, 1.  , 0.88, 0.8 , 1.2 ])"
      ]
     },
     "execution_count": 18,
     "metadata": {},
     "output_type": "execute_result"
    }
   ],
   "source": [
    "sales_achived_percent=norm.rvs(1,0.1,500).round(2)\n",
    "sales_achived_percent"
   ]
  },
  {
   "cell_type": "code",
   "execution_count": 47,
   "id": "d278182f",
   "metadata": {},
   "outputs": [
    {
     "name": "stderr",
     "output_type": "stream",
     "text": [
      "C:\\ProgramData\\Anaconda3\\lib\\site-packages\\seaborn\\distributions.py:2619: FutureWarning: `distplot` is a deprecated function and will be removed in a future version. Please adapt your code to use either `displot` (a figure-level function with similar flexibility) or `histplot` (an axes-level function for histograms).\n",
      "  warnings.warn(msg, FutureWarning)\n"
     ]
    },
    {
     "data": {
      "text/plain": [
       "<AxesSubplot:ylabel='Density'>"
      ]
     },
     "execution_count": 47,
     "metadata": {},
     "output_type": "execute_result"
    },
    {
     "data": {
      "image/png": "[encoded data removed]",
      "text/plain": [
       "<Figure size 432x288 with 1 Axes>"
      ]
     },
     "metadata": {},
     "output_type": "display_data"
    }
   ],
   "source": [
    "sns.distplot(sales_targets)"
   ]
  },
  {
   "cell_type": "markdown",
   "id": "24a9db30",
   "metadata": {},
   "source": [
    "So consider the the data which we have is of one universe and lets created the similar data for other universe and then take the incentive budget of every universe and then predict a range "
   ]
  },
  {
   "cell_type": "markdown",
   "id": "ad7bfaf6",
   "metadata": {},
   "source": [
    "Now we are also given the sales target and we know the probability of the assiging sales target lets use np.random.choice to sample this datapoints "
   ]
  },
  {
   "cell_type": "code",
   "execution_count": 15,
   "id": "6b637fde",
   "metadata": {},
   "outputs": [],
   "source": [
    "sales_target_values = [75_000, 100_000, 200_000, 300_000, 400_000, 500_000]\n",
    "sales_target_prob = [.3, .3, .2, .1, .05, .05]\n",
    "sales_target=np.random.choice(sales_target_values,500,p = sales_target_prob)"
   ]
  },
  {
   "cell_type": "code",
   "execution_count": 16,
   "id": "c3e30e5f",
   "metadata": {},
   "outputs": [
    {
     "data": {
      "text/plain": [
       "array([100000, 100000,  75000, 100000,  75000, 300000, 200000, 200000,\n",
       "       100000, 200000, 100000, 100000, 100000, 200000, 200000,  75000,\n",
       "       200000, 200000,  75000,  75000, 200000,  75000,  75000, 200000,\n",
       "       500000,  75000,  75000,  75000, 200000, 200000,  75000, 100000,\n",
       "        75000, 200000, 100000,  75000, 200000,  75000, 200000,  75000,\n",
       "        75000, 100000,  75000, 200000,  75000, 300000,  75000, 100000,\n",
       "       100000, 100000, 100000,  75000, 100000, 500000,  75000, 100000,\n",
       "       100000, 300000, 400000,  75000, 100000,  75000,  75000, 100000,\n",
       "       100000, 500000, 100000, 200000, 100000, 200000, 500000, 100000,\n",
       "       200000,  75000,  75000, 100000, 100000, 100000, 200000, 200000,\n",
       "       100000, 400000,  75000, 200000, 300000,  75000, 500000, 300000,\n",
       "       200000, 500000, 200000, 100000,  75000, 400000,  75000,  75000,\n",
       "        75000, 300000, 100000, 400000,  75000, 100000, 200000,  75000,\n",
       "        75000, 100000, 200000, 200000, 100000, 200000, 200000,  75000,\n",
       "       300000, 100000, 300000, 200000,  75000, 500000, 100000,  75000,\n",
       "       300000,  75000,  75000, 100000,  75000, 100000, 100000,  75000,\n",
       "        75000, 200000,  75000, 100000, 400000,  75000, 100000,  75000,\n",
       "       500000, 100000, 200000, 200000, 300000, 200000,  75000, 200000,\n",
       "        75000, 500000, 200000, 100000, 100000, 100000, 100000, 100000,\n",
       "       300000, 100000,  75000, 300000, 200000,  75000, 200000, 200000,\n",
       "        75000, 100000, 500000,  75000, 100000,  75000, 100000, 100000,\n",
       "        75000,  75000, 100000, 400000, 200000, 200000,  75000,  75000,\n",
       "        75000, 200000, 200000,  75000, 300000, 100000,  75000,  75000,\n",
       "       200000,  75000, 300000, 300000,  75000, 100000, 100000, 100000,\n",
       "       100000,  75000,  75000, 200000, 200000, 200000,  75000,  75000,\n",
       "        75000,  75000, 100000, 400000, 100000,  75000, 300000,  75000,\n",
       "       200000, 200000, 100000, 100000, 100000, 100000, 100000, 300000,\n",
       "       200000, 100000, 300000, 100000,  75000, 100000,  75000, 100000,\n",
       "        75000,  75000, 200000,  75000, 200000, 500000, 300000,  75000,\n",
       "       100000, 200000,  75000, 100000,  75000, 200000, 100000,  75000,\n",
       "       100000, 200000, 300000, 100000,  75000, 200000,  75000, 300000,\n",
       "        75000,  75000, 300000, 100000, 500000,  75000, 100000, 300000,\n",
       "       200000,  75000, 400000,  75000, 500000, 200000, 400000, 500000,\n",
       "       100000, 200000, 300000, 200000,  75000, 200000, 200000,  75000,\n",
       "       100000, 100000, 100000,  75000, 100000,  75000,  75000,  75000,\n",
       "       200000, 400000, 200000, 300000,  75000, 200000,  75000,  75000,\n",
       "       300000, 200000,  75000,  75000, 200000,  75000, 300000, 300000,\n",
       "        75000, 200000,  75000, 200000, 100000, 100000,  75000, 100000,\n",
       "       100000, 200000, 200000, 100000, 200000, 200000, 100000,  75000,\n",
       "        75000, 100000,  75000,  75000,  75000, 100000, 200000, 100000,\n",
       "       200000,  75000, 200000, 300000,  75000, 100000, 200000, 100000,\n",
       "       100000,  75000, 200000, 400000, 100000, 100000, 200000, 300000,\n",
       "        75000, 100000,  75000, 500000, 300000, 200000, 200000, 100000,\n",
       "        75000, 100000, 100000, 100000,  75000,  75000,  75000,  75000,\n",
       "       100000,  75000, 400000, 400000, 100000,  75000,  75000, 100000,\n",
       "       200000,  75000, 200000, 100000, 300000, 100000, 100000,  75000,\n",
       "       400000, 100000,  75000, 300000,  75000,  75000,  75000,  75000,\n",
       "        75000, 200000, 200000, 500000,  75000, 100000,  75000, 100000,\n",
       "        75000, 200000, 200000, 300000, 400000, 200000, 200000, 100000,\n",
       "       300000, 100000, 100000, 100000,  75000, 200000,  75000, 200000,\n",
       "        75000,  75000,  75000, 100000, 200000, 200000, 100000, 100000,\n",
       "        75000, 200000, 100000, 100000, 100000, 400000, 100000, 100000,\n",
       "        75000, 300000, 500000, 100000, 100000, 100000, 300000,  75000,\n",
       "       200000,  75000, 100000, 300000, 100000, 100000, 100000, 200000,\n",
       "       200000, 200000, 400000,  75000, 500000, 100000, 300000,  75000,\n",
       "       300000,  75000, 300000, 200000, 100000, 300000,  75000, 200000,\n",
       "       200000,  75000,  75000,  75000, 100000, 100000, 100000, 200000,\n",
       "        75000, 100000,  75000,  75000, 100000, 200000, 100000, 300000,\n",
       "       200000, 100000, 300000,  75000, 200000,  75000, 100000, 400000,\n",
       "       100000, 100000, 300000, 300000, 100000,  75000, 200000,  75000,\n",
       "        75000, 100000, 100000, 400000, 100000, 100000, 200000, 500000,\n",
       "       500000, 100000, 200000,  75000, 500000,  75000, 100000, 100000,\n",
       "       100000, 400000,  75000, 300000])"
      ]
     },
     "execution_count": 16,
     "metadata": {},
     "output_type": "execute_result"
    }
   ],
   "source": [
    "sales_target"
   ]
  },
  {
   "cell_type": "code",
   "execution_count": 58,
   "id": "79bea709",
   "metadata": {},
   "outputs": [
    {
     "name": "stderr",
     "output_type": "stream",
     "text": [
      "C:\\ProgramData\\Anaconda3\\lib\\site-packages\\seaborn\\distributions.py:2619: FutureWarning: `distplot` is a deprecated function and will be removed in a future version. Please adapt your code to use either `displot` (a figure-level function with similar flexibility) or `histplot` (an axes-level function for histograms).\n",
      "  warnings.warn(msg, FutureWarning)\n"
     ]
    },
    {
     "data": {
      "text/plain": [
       "<AxesSubplot:ylabel='Density'>"
      ]
     },
     "execution_count": 58,
     "metadata": {},
     "output_type": "execute_result"
    },
    {
     "data": {
      "image/png": "[encoded data removed]",
      "text/plain": [
       "<Figure size 432x288 with 1 Axes>"
      ]
     },
     "metadata": {},
     "output_type": "display_data"
    }
   ],
   "source": [
    "sns.distplot(sales_target)"
   ]
  },
  {
   "cell_type": "markdown",
   "id": "a26451c4",
   "metadata": {},
   "source": [
    "so it kind of gives likewise distribution "
   ]
  },
  {
   "cell_type": "code",
   "execution_count": 64,
   "id": "b45c9462",
   "metadata": {},
   "outputs": [
    {
     "data": {
      "text/html": [
       "<div>\n",
       "<style scoped>\n",
       "    .dataframe tbody tr th:only-of-type {\n",
       "        vertical-align: middle;\n",
       "    }\n",
       "\n",
       "    .dataframe tbody tr th {\n",
       "        vertical-align: top;\n",
       "    }\n",
       "\n",
       "    .dataframe thead th {\n",
       "        text-align: right;\n",
       "    }\n",
       "</style>\n",
       "<table border=\"1\" class=\"dataframe\">\n",
       "  <thead>\n",
       "    <tr style=\"text-align: right;\">\n",
       "      <th></th>\n",
       "      <th>check</th>\n",
       "    </tr>\n",
       "  </thead>\n",
       "  <tbody>\n",
       "    <tr>\n",
       "      <th>0</th>\n",
       "      <td>1</td>\n",
       "    </tr>\n",
       "    <tr>\n",
       "      <th>1</th>\n",
       "      <td>2</td>\n",
       "    </tr>\n",
       "    <tr>\n",
       "      <th>2</th>\n",
       "      <td>3</td>\n",
       "    </tr>\n",
       "    <tr>\n",
       "      <th>3</th>\n",
       "      <td>4</td>\n",
       "    </tr>\n",
       "  </tbody>\n",
       "</table>\n",
       "</div>"
      ],
      "text/plain": [
       "   check\n",
       "0      1\n",
       "1      2\n",
       "2      3\n",
       "3      4"
      ]
     },
     "execution_count": 64,
     "metadata": {},
     "output_type": "execute_result"
    }
   ],
   "source": [
    "l = [1,2,3,4]\n",
    "pd.DataFrame(l,index = range(len(l)),columns = ['check'])"
   ]
  },
  {
   "cell_type": "markdown",
   "id": "ef707dcd",
   "metadata": {},
   "source": [
    "Now we will have to create a data frame then we will have to calculate the incentives and we have to do this for every simulation "
   ]
  },
  {
   "cell_type": "code",
   "execution_count": 20,
   "id": "7cef4ceb",
   "metadata": {},
   "outputs": [],
   "source": [
    "df = pd.DataFrame({'Sales_target':sales_target,'Percent_to_plan':sales_achived_percent})"
   ]
  },
  {
   "cell_type": "code",
   "execution_count": 22,
   "id": "ad1258e6",
   "metadata": {},
   "outputs": [],
   "source": [
    "df.Percent_to_plan = df.Percent_to_plan*100"
   ]
  },
  {
   "cell_type": "code",
   "execution_count": 25,
   "id": "77923f42",
   "metadata": {},
   "outputs": [],
   "source": [
    "df['Actual_sales'] = df['Sales_target']*df['Percent_to_plan']"
   ]
  },
  {
   "cell_type": "code",
   "execution_count": 26,
   "id": "596f0bc4",
   "metadata": {},
   "outputs": [
    {
     "data": {
      "text/html": [
       "<div>\n",
       "<style scoped>\n",
       "    .dataframe tbody tr th:only-of-type {\n",
       "        vertical-align: middle;\n",
       "    }\n",
       "\n",
       "    .dataframe tbody tr th {\n",
       "        vertical-align: top;\n",
       "    }\n",
       "\n",
       "    .dataframe thead th {\n",
       "        text-align: right;\n",
       "    }\n",
       "</style>\n",
       "<table border=\"1\" class=\"dataframe\">\n",
       "  <thead>\n",
       "    <tr style=\"text-align: right;\">\n",
       "      <th></th>\n",
       "      <th>Sales_target</th>\n",
       "      <th>Percent_to_plan</th>\n",
       "      <th>Actual_sales</th>\n",
       "    </tr>\n",
       "  </thead>\n",
       "  <tbody>\n",
       "    <tr>\n",
       "      <th>0</th>\n",
       "      <td>100000</td>\n",
       "      <td>93.0</td>\n",
       "      <td>9300000.0</td>\n",
       "    </tr>\n",
       "    <tr>\n",
       "      <th>1</th>\n",
       "      <td>100000</td>\n",
       "      <td>103.0</td>\n",
       "      <td>10300000.0</td>\n",
       "    </tr>\n",
       "    <tr>\n",
       "      <th>2</th>\n",
       "      <td>75000</td>\n",
       "      <td>82.0</td>\n",
       "      <td>6150000.0</td>\n",
       "    </tr>\n",
       "    <tr>\n",
       "      <th>3</th>\n",
       "      <td>100000</td>\n",
       "      <td>91.0</td>\n",
       "      <td>9100000.0</td>\n",
       "    </tr>\n",
       "    <tr>\n",
       "      <th>4</th>\n",
       "      <td>75000</td>\n",
       "      <td>107.0</td>\n",
       "      <td>8025000.0</td>\n",
       "    </tr>\n",
       "    <tr>\n",
       "      <th>...</th>\n",
       "      <td>...</td>\n",
       "      <td>...</td>\n",
       "      <td>...</td>\n",
       "    </tr>\n",
       "    <tr>\n",
       "      <th>495</th>\n",
       "      <td>100000</td>\n",
       "      <td>97.0</td>\n",
       "      <td>9700000.0</td>\n",
       "    </tr>\n",
       "    <tr>\n",
       "      <th>496</th>\n",
       "      <td>100000</td>\n",
       "      <td>100.0</td>\n",
       "      <td>10000000.0</td>\n",
       "    </tr>\n",
       "    <tr>\n",
       "      <th>497</th>\n",
       "      <td>400000</td>\n",
       "      <td>88.0</td>\n",
       "      <td>35200000.0</td>\n",
       "    </tr>\n",
       "    <tr>\n",
       "      <th>498</th>\n",
       "      <td>75000</td>\n",
       "      <td>80.0</td>\n",
       "      <td>6000000.0</td>\n",
       "    </tr>\n",
       "    <tr>\n",
       "      <th>499</th>\n",
       "      <td>300000</td>\n",
       "      <td>120.0</td>\n",
       "      <td>36000000.0</td>\n",
       "    </tr>\n",
       "  </tbody>\n",
       "</table>\n",
       "<p>500 rows × 3 columns</p>\n",
       "</div>"
      ],
      "text/plain": [
       "     Sales_target  Percent_to_plan  Actual_sales\n",
       "0          100000             93.0     9300000.0\n",
       "1          100000            103.0    10300000.0\n",
       "2           75000             82.0     6150000.0\n",
       "3          100000             91.0     9100000.0\n",
       "4           75000            107.0     8025000.0\n",
       "..            ...              ...           ...\n",
       "495        100000             97.0     9700000.0\n",
       "496        100000            100.0    10000000.0\n",
       "497        400000             88.0    35200000.0\n",
       "498         75000             80.0     6000000.0\n",
       "499        300000            120.0    36000000.0\n",
       "\n",
       "[500 rows x 3 columns]"
      ]
     },
     "execution_count": 26,
     "metadata": {},
     "output_type": "execute_result"
    }
   ],
   "source": [
    "df"
   ]
  },
  {
   "cell_type": "code",
   "execution_count": 27,
   "id": "592d1a7e",
   "metadata": {},
   "outputs": [],
   "source": [
    "def comission_rate(a):\n",
    "    if 0 <= a <= 90:\n",
    "        return 2\n",
    "    elif 91 <= a <= 99:\n",
    "        return 3\n",
    "    else:\n",
    "        return 4"
   ]
  },
  {
   "cell_type": "code",
   "execution_count": 32,
   "id": "a4ef7c26",
   "metadata": {},
   "outputs": [],
   "source": [
    "df['Commission_rate']=df.apply(lambda x: comission_rate(x['Percent_to_plan']), axis = 1)"
   ]
  },
  {
   "cell_type": "code",
   "execution_count": 34,
   "id": "f91b7299",
   "metadata": {},
   "outputs": [],
   "source": [
    "df['Commission_amount'] = df['Commission_rate']*df['Actual_sales']"
   ]
  },
  {
   "cell_type": "code",
   "execution_count": 35,
   "id": "eef4616c",
   "metadata": {},
   "outputs": [
    {
     "data": {
      "text/html": [
       "<div>\n",
       "<style scoped>\n",
       "    .dataframe tbody tr th:only-of-type {\n",
       "        vertical-align: middle;\n",
       "    }\n",
       "\n",
       "    .dataframe tbody tr th {\n",
       "        vertical-align: top;\n",
       "    }\n",
       "\n",
       "    .dataframe thead th {\n",
       "        text-align: right;\n",
       "    }\n",
       "</style>\n",
       "<table border=\"1\" class=\"dataframe\">\n",
       "  <thead>\n",
       "    <tr style=\"text-align: right;\">\n",
       "      <th></th>\n",
       "      <th>Sales_target</th>\n",
       "      <th>Percent_to_plan</th>\n",
       "      <th>Actual_sales</th>\n",
       "      <th>Commission_rate</th>\n",
       "      <th>Commission_amount</th>\n",
       "    </tr>\n",
       "  </thead>\n",
       "  <tbody>\n",
       "    <tr>\n",
       "      <th>0</th>\n",
       "      <td>100000</td>\n",
       "      <td>93.0</td>\n",
       "      <td>9300000.0</td>\n",
       "      <td>3</td>\n",
       "      <td>27900000.0</td>\n",
       "    </tr>\n",
       "    <tr>\n",
       "      <th>1</th>\n",
       "      <td>100000</td>\n",
       "      <td>103.0</td>\n",
       "      <td>10300000.0</td>\n",
       "      <td>4</td>\n",
       "      <td>41200000.0</td>\n",
       "    </tr>\n",
       "    <tr>\n",
       "      <th>2</th>\n",
       "      <td>75000</td>\n",
       "      <td>82.0</td>\n",
       "      <td>6150000.0</td>\n",
       "      <td>2</td>\n",
       "      <td>12300000.0</td>\n",
       "    </tr>\n",
       "    <tr>\n",
       "      <th>3</th>\n",
       "      <td>100000</td>\n",
       "      <td>91.0</td>\n",
       "      <td>9100000.0</td>\n",
       "      <td>3</td>\n",
       "      <td>27300000.0</td>\n",
       "    </tr>\n",
       "    <tr>\n",
       "      <th>4</th>\n",
       "      <td>75000</td>\n",
       "      <td>107.0</td>\n",
       "      <td>8025000.0</td>\n",
       "      <td>4</td>\n",
       "      <td>32100000.0</td>\n",
       "    </tr>\n",
       "    <tr>\n",
       "      <th>...</th>\n",
       "      <td>...</td>\n",
       "      <td>...</td>\n",
       "      <td>...</td>\n",
       "      <td>...</td>\n",
       "      <td>...</td>\n",
       "    </tr>\n",
       "    <tr>\n",
       "      <th>495</th>\n",
       "      <td>100000</td>\n",
       "      <td>97.0</td>\n",
       "      <td>9700000.0</td>\n",
       "      <td>3</td>\n",
       "      <td>29100000.0</td>\n",
       "    </tr>\n",
       "    <tr>\n",
       "      <th>496</th>\n",
       "      <td>100000</td>\n",
       "      <td>100.0</td>\n",
       "      <td>10000000.0</td>\n",
       "      <td>4</td>\n",
       "      <td>40000000.0</td>\n",
       "    </tr>\n",
       "    <tr>\n",
       "      <th>497</th>\n",
       "      <td>400000</td>\n",
       "      <td>88.0</td>\n",
       "      <td>35200000.0</td>\n",
       "      <td>2</td>\n",
       "      <td>70400000.0</td>\n",
       "    </tr>\n",
       "    <tr>\n",
       "      <th>498</th>\n",
       "      <td>75000</td>\n",
       "      <td>80.0</td>\n",
       "      <td>6000000.0</td>\n",
       "      <td>2</td>\n",
       "      <td>12000000.0</td>\n",
       "    </tr>\n",
       "    <tr>\n",
       "      <th>499</th>\n",
       "      <td>300000</td>\n",
       "      <td>120.0</td>\n",
       "      <td>36000000.0</td>\n",
       "      <td>4</td>\n",
       "      <td>144000000.0</td>\n",
       "    </tr>\n",
       "  </tbody>\n",
       "</table>\n",
       "<p>500 rows × 5 columns</p>\n",
       "</div>"
      ],
      "text/plain": [
       "     Sales_target  Percent_to_plan  Actual_sales  Commission_rate  \\\n",
       "0          100000             93.0     9300000.0                3   \n",
       "1          100000            103.0    10300000.0                4   \n",
       "2           75000             82.0     6150000.0                2   \n",
       "3          100000             91.0     9100000.0                3   \n",
       "4           75000            107.0     8025000.0                4   \n",
       "..            ...              ...           ...              ...   \n",
       "495        100000             97.0     9700000.0                3   \n",
       "496        100000            100.0    10000000.0                4   \n",
       "497        400000             88.0    35200000.0                2   \n",
       "498         75000             80.0     6000000.0                2   \n",
       "499        300000            120.0    36000000.0                4   \n",
       "\n",
       "     Commission_amount  \n",
       "0           27900000.0  \n",
       "1           41200000.0  \n",
       "2           12300000.0  \n",
       "3           27300000.0  \n",
       "4           32100000.0  \n",
       "..                 ...  \n",
       "495         29100000.0  \n",
       "496         40000000.0  \n",
       "497         70400000.0  \n",
       "498         12000000.0  \n",
       "499        144000000.0  \n",
       "\n",
       "[500 rows x 5 columns]"
      ]
     },
     "execution_count": 35,
     "metadata": {},
     "output_type": "execute_result"
    }
   ],
   "source": [
    "df"
   ]
  },
  {
   "cell_type": "code",
   "execution_count": 36,
   "id": "794b18f4",
   "metadata": {},
   "outputs": [
    {
     "name": "stderr",
     "output_type": "stream",
     "text": [
      "C:\\ProgramData\\Anaconda3\\lib\\site-packages\\seaborn\\distributions.py:2619: FutureWarning: `distplot` is a deprecated function and will be removed in a future version. Please adapt your code to use either `displot` (a figure-level function with similar flexibility) or `histplot` (an axes-level function for histograms).\n",
      "  warnings.warn(msg, FutureWarning)\n"
     ]
    },
    {
     "data": {
      "text/plain": [
       "<AxesSubplot:xlabel='Commission_amount', ylabel='Density'>"
      ]
     },
     "execution_count": 36,
     "metadata": {},
     "output_type": "execute_result"
    },
    {
     "data": {
      "image/png": "[encoded data removed]",
      "text/plain": [
       "<Figure size 432x288 with 1 Axes>"
      ]
     },
     "metadata": {},
     "output_type": "display_data"
    }
   ],
   "source": [
    "sns.distplot(df['Commission_amount'])"
   ]
  },
  {
   "cell_type": "code",
   "execution_count": 41,
   "id": "d03cd1a0",
   "metadata": {},
   "outputs": [],
   "source": [
    "for i in range(2):\n",
    "    percent_to_plan=norm.rvs(1,0.1,500)\n",
    "    sales_target = np.\n",
    "    "
   ]
  },
  {
   "cell_type": "code",
   "execution_count": null,
   "id": "6fa22b1f",
   "metadata": {},
   "outputs": [],
   "source": [
    "# continued "
   ]
  }
 ],
 "metadata": {
  "kernelspec": {
   "display_name": "Python 3 (ipykernel)",
   "language": "python",
   "name": "python3"
  },
  "language_info": {
   "codemirror_mode": {
    "name": "ipython",
    "version": 3
   },
   "file_extension": ".py",
   "mimetype": "text/x-python",
   "name": "python",
   "nbconvert_exporter": "python",
   "pygments_lexer": "ipython3",
   "version": "3.9.12"
  }
 },
 "nbformat": 4,
 "nbformat_minor": 5
}
