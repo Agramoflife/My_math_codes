{
 "cells": [
  {
   "cell_type": "markdown",
   "id": "2953fad3",
   "metadata": {},
   "source": [
    "# Hypothesis Testing"
   ]
  },
  {
   "cell_type": "markdown",
   "id": "11a846a3",
   "metadata": {},
   "source": [
    "# Part 1 - The theory of hypothesis testing "
   ]
  },
  {
   "cell_type": "markdown",
   "id": "fe0f00a4",
   "metadata": {},
   "source": [
    "Hypothesis testing is basically used to prove/disprove a claim using statistical techniques which we will cover as we proceed further"
   ]
  },
  {
   "cell_type": "markdown",
   "id": "25332063",
   "metadata": {},
   "source": [
    "Lets understand the difference between thesis and hypothesis  "
   ]
  },
  {
   "cell_type": "markdown",
   "id": "976b3889",
   "metadata": {},
   "source": [
    "Thesis is written when a fact has been established or discovered so basically it is just a doucument that is written to present your finding or established research, On the other hand hypothesis is some thing which is not yet proved or we are in the assumption of something that is considered true and we do a hypothesis testing to see if we can conclude something about the statement , we follow some staistical test to check wheather we should approve or disapprove the statement based on the rejection or no rejection region `"
   ]
  },
  {
   "cell_type": "markdown",
   "id": "befbb4c5",
   "metadata": {},
   "source": [
    "Lets understand the hypothesis testing with an analogous example, Consider this example as loosely tied with logic of hypothesis testing "
   ]
  },
  {
   "cell_type": "markdown",
   "id": "cadd6217",
   "metadata": {},
   "source": [
    "So In the eyes of law a person is innocent untill proven guilty so If we were to  do hypothesis testing of this so  how should we approach this "
   ]
  },
  {
   "cell_type": "markdown",
   "id": "7a3a44e0",
   "metadata": {},
   "source": [
    "So when we start the hypothesis testing we first find the null hypothesis and the alternate hypothesis the null hypothesis is basically the statment which is given(we also assume it to be true for the sake of doing the test) like the mean of population is 34 , so we would consider the null hypothesis often denote by H0 that is h not to mean = 34 and alternate hypothesis which is denothed by h1 to be mean != 34, following the same ground for our loosely tied example we would consider the null hypothesis in the case  "
   ]
  },
  {
   "cell_type": "markdown",
   "id": "abf430ad",
   "metadata": {},
   "source": [
    "Null Hypothesis (H0) : Person is innocent \n",
    "\n",
    "Alternate Hyptothesis (H1) person is not innocent "
   ]
  },
  {
   "cell_type": "markdown",
   "id": "de6e3d1f",
   "metadata": {},
   "source": [
    "Now the Judge will say that you Mr. Police go and bring me the evidence first to prove that the Person is guilty\n",
    "\n",
    "So the Judge believes that the Person is innocent at first \n",
    "\n"
   ]
  },
  {
   "cell_type": "markdown",
   "id": "d1d17f90",
   "metadata": {},
   "source": [
    "So the null hypothesis is the current status also called status quo Now the police will go and find evidence to prove the Person guilt the evidence here is analogous to the statistical test which we do in hypothesis testing"
   ]
  },
  {
   "cell_type": "markdown",
   "id": "1aaedff5",
   "metadata": {},
   "source": [
    "Hypothesis testing is alway done on the population parametere, You have already covered population and sample in the stats lecture"
   ]
  },
  {
   "cell_type": "markdown",
   "id": "082051d0",
   "metadata": {},
   "source": [
    "The statistical test is always done on the sample"
   ]
  },
  {
   "cell_type": "markdown",
   "id": "7ce1602c",
   "metadata": {},
   "source": [
    "Now is the concept of significance value, critical value , comes in picture "
   ]
  },
  {
   "cell_type": "markdown",
   "id": "f01e9362",
   "metadata": {},
   "source": [
    "# Rare event rule for inferential statsitics \n",
    "## if under a given assumption, The probability of a particular observed event is exceptionally small, we conclude that the assumption is probabily not correct "
   ]
  },
  {
   "cell_type": "markdown",
   "id": "5c702806",
   "metadata": {},
   "source": [
    "Consider the judge, person, police example to understand this> the judge belived that the person is innocent and asked the police to go and collect the evidence if the person has committed the crime or not now the police goes and finds that they have a footage where the person was seen at harbaour road , in Yoo society on 5 floor , in front of house no. 3 at 2:36 am, with a knife drenced in blood which is excatly where the murder happened and they have his face on cctv camera, Now the probability of such event given that the person is innocent if very very very small but yet the police found so now the judge would say that boss you are not innocent, That is judge basically  disregarding the null hypothesis "
   ]
  },
  {
   "cell_type": "markdown",
   "id": "f6fe827c",
   "metadata": {},
   "source": [
    "## This evidence or corresponding probability which we are talking about is the p value that is if I find probability below this then I will disregard my belive "
   ]
  },
  {
   "cell_type": "markdown",
   "id": "ee4bbefc",
   "metadata": {},
   "source": [
    "# Now when we are doing hypothesis test there are 3 types of alternate hypotesis test that\n",
    "\n",
    "Take an example where null hypothesis is mean \n",
    "\n",
    "## Two tail test which means claim != x\n",
    "\n",
    "H0 = 25 / mean = 25\n",
    "\n",
    "H1 != 25 / mean != 25\n",
    "\n",
    "\n",
    "## left tail test claim < x\n",
    "\n",
    "H0 = 25 / mean = 25\n",
    "\n",
    "H1 < 25 / mean < 25\n",
    "\n",
    "## rigth tail test claim > x\n",
    "\n",
    "H0 = 25 / mean = 25\n",
    "\n",
    "H1 > 25 / mean > 25"
   ]
  },
  {
   "cell_type": "markdown",
   "id": "d7c1d244",
   "metadata": {},
   "source": [
    "This is related to the graph of normal distribution which has tails just for understanding thats it "
   ]
  },
  {
   "cell_type": "markdown",
   "id": "214a85e8",
   "metadata": {},
   "source": [
    "Now when you get a question you calculate the z value and the z value converted into probability is called the p value if the z value is way beyod the confidence interval you change your belive "
   ]
  },
  {
   "cell_type": "markdown",
   "id": "b0dc3549",
   "metadata": {},
   "source": [
    "# significance value and critical value "
   ]
  },
  {
   "cell_type": "markdown",
   "id": "36a364ca",
   "metadata": {},
   "source": [
    "Significance value is basically a probability value which is alpha this value alpha is converted into critical value which is also nothing but the Z value"
   ]
  },
  {
   "cell_type": "markdown",
   "id": "d816b858",
   "metadata": {},
   "source": [
    "So what is P value then p value is basically the test statistics value which is coverted into probability value in other words p value is the probability(strength) of the evidence given that the null hypothesis is considered to be ture like in the case of judge and police example police get the evidence so the probability of such evidence found is called the p value "
   ]
  },
  {
   "cell_type": "markdown",
   "id": "c8e1fc14",
   "metadata": {},
   "source": [
    " the p-value measures the strength of evidence against the null hypothesis, while the critical value is a predetermined threshold used to make a decision on rejecting or failing to reject the null hypothesis based on the test statistic."
   ]
  },
  {
   "cell_type": "code",
   "execution_count": null,
   "id": "e065e90f",
   "metadata": {},
   "outputs": [],
   "source": []
  },
  {
   "cell_type": "markdown",
   "id": "91b08fe5",
   "metadata": {},
   "source": [
    "# Revisited "
   ]
  },
  {
   "cell_type": "markdown",
   "id": "80b63eb2",
   "metadata": {},
   "source": [
    "Hypothesis testing is a statistical method used to test a claim or hypothesis about a parameter in a population, using data measured in a sample¹. This parameter could be the mean, standard deviation, proportion, or any other numerical characteristic of the population¹.\n",
    "\n",
    "Here's how it works:\n",
    "\n",
    "1. **Null Hypothesis (H0)**: This is a statement about the population parameter that is assumed to be true unless there is convincing evidence to the contrary⁴. For example, if we believe that the average weight of a certain species of bird is 2kg, then our null hypothesis would be \"The average weight of the bird species is 2kg\".\n",
    "\n",
    "2. **Alternative Hypothesis (H1)**: This is a statement about the population parameter that contradicts the null hypothesis⁴. It's accepted as true only if there's convincing evidence in favor of it⁴. In our bird example, an alternative hypothesis could be \"The average weight of the bird species is not 2kg\".\n",
    "\n",
    "3. **Test Statistic**: This is a value computed from the sample data that's used in making a decision about the rejection of the null hypothesis³. It converts the sample mean or sample proportion to a Z- or t-score under the assumption that the null hypothesis is true³.\n",
    "\n",
    "4. **P-value and Level of Significance**: The p-value measures the strength of evidence in support of a null hypothesis. The level of significance (commonly set at 0.05) is a threshold used to determine when we reject the null hypothesis. If the p-value is less than or equal to the level of significance, we reject the null hypothesis¹.\n",
    "\n",
    "In summary, hypothesis testing allows us to make an educated guess about an assumption using statistics. It helps us understand how true our assumption might be for the entire population from where our sample data was taken⁶."
   ]
  },
  {
   "cell_type": "markdown",
   "id": "15612d9b",
   "metadata": {},
   "source": [
    "So here is what is happening \n",
    "\n",
    "Step 1: if we draw a large amount of samples form the population and plot the means of all the sample we will get a normal distribtion.\n",
    "\n",
    "Step 2: Now in hypothesis testing we basically use the mean of the sample and this mean is a data point in the noraml distribution so we convert that mean data point into standard noraml distribution using the Z-score."
   ]
  },
  {
   "cell_type": "markdown",
   "id": "5755e900",
   "metadata": {},
   "source": [
    "# Please first understand the difference between Z score and Z Transformation "
   ]
  },
  {
   "cell_type": "markdown",
   "id": "4658ba98",
   "metadata": {},
   "source": [
    "The terms \"Z-score\" and \"Z-transformation\" are related, but they refer to slightly different concepts:\n",
    "\n",
    "1. **Z-score**: A Z-score is a statistical measurement that describes a value's relationship to the mean of a group of values⁶. It is measured in terms of standard deviations from the mean⁶. If a Z-score is 0, it indicates that the data point's score is identical to the mean score⁶. A Z-score of 1.0 would indicate a value that is one standard deviation from the mean⁶. Z-scores may be positive or negative, with a positive value indicating the score is above the mean and a negative score indicating it is below the mean⁶.\n",
    "\n",
    "2. **Z-transformation**: Z-transformation, also known as standardization, is a process of converting a set of raw scores to a set of standardized scores that have a mean of zero and a standard deviation of one¹. This process involves calculating the Z-score for each data point in your dataset. The resulting dataset is said to have been \"standardized\" or \"Z-transformed\". This transformation is useful for comparing scores from different distributions or computing probabilities associated with normal distributions¹.\n",
    "\n",
    "So, while a Z-score refers to the standardized score for an individual data point, a Z-transformation refers to the process of standardizing an entire dataset.\n"
   ]
  },
  {
   "cell_type": "markdown",
   "id": "95750dd1",
   "metadata": {},
   "source": [
    "SO we are actually using the Z score in hypothesis and not the z transformation "
   ]
  },
  {
   "cell_type": "markdown",
   "id": "cad3dffc",
   "metadata": {},
   "source": [
    "So here is what is happening \n",
    "Step 1: if we draw a large amount of samples form the population and plot the means of all the sample we will get a normal distribtion.\n",
    "\n",
    "Step 2: Now in hypothesis testing we basically use the mean of the sample and this mean is a data point in the noraml distribution so we convert that mean data point into Z score. It gives us how far the datapoint mean (sample's mean) is from the hypothised mean of the population. \n",
    "\n",
    "step 3: if it lies outside the confidence interval we reject the hypotheised mean "
   ]
  },
  {
   "cell_type": "markdown",
   "id": "c6385e56",
   "metadata": {},
   "source": [
    "The flow of the quesiton \n",
    "\n",
    "Yes, you've got it! Your understanding of the steps involved in hypothesis testing is correct. Here's a recap:\n",
    "\n",
    "1. **Step 1 - Null Hypothesis (H0)**: Define a null hypothesis. For example, the population mean is 50.\n",
    "2. **Step 2 - Alternative Hypothesis (H1)**: Define an alternative hypothesis. In this case, the population mean is not equal to 50.\n",
    "3. **Step 3 - Calculate Z-score**: For the given sample, calculate the sample mean and standard deviation. Then calculate the Z-score using these values.\n",
    "4. **Step 4 - Calculate p-value**: Find the p-value corresponding to the calculated Z-score.\n",
    "5. **Step 5 - Decision Making**: If the p-value is less than your chosen significance level (often 0.05), reject the null hypothesis.\n",
    "\n",
    "So yes, your understanding of these steps is correct! Great job on understanding these statistical concepts! 😊"
   ]
  },
  {
   "cell_type": "code",
   "execution_count": null,
   "id": "76989390",
   "metadata": {},
   "outputs": [],
   "source": []
  },
  {
   "cell_type": "markdown",
   "id": "cdea0f6b",
   "metadata": {},
   "source": [
    "The significance value is basically the probability below which I will reject my null hypthesis and p value is the probability of the null hypothesis?"
   ]
  },
  {
   "cell_type": "markdown",
   "id": "4ec6bca9",
   "metadata": {},
   "source": [
    "The **significance level** (often denoted as α) is a threshold that you set before conducting your hypothesis test. It represents the probability of rejecting the null hypothesis when it is true, also known as a Type I error. If your p-value is less than or equal to this significance level, then you reject the null hypothesis.\n",
    "\n",
    "The **p-value** is the probability of obtaining a result as extreme as, or more extreme than, the result actually observed, assuming that the null hypothesis is true. It's a measure of the strength of evidence against the null hypothesis.\n",
    "\n",
    "So, if your p-value is less than your chosen significance level (like 0.05), it means there's strong evidence against the null hypothesis, and you would reject it. However, it's important to remember that this doesn't prove the alternative hypothesis; it just suggests that the null hypothesis is unlikely given the observed data. Great job on understanding these statistical concepts! 😊"
   ]
  },
  {
   "cell_type": "markdown",
   "id": "f16cd89b",
   "metadata": {},
   "source": [
    "Absolutely, let's consider an example.\n",
    "\n",
    "Suppose you're a botanist studying the heights of a certain type of plant. You believe that these plants typically grow to an average height of 10 cm. So, you set up your null and alternative hypotheses as follows:\n",
    "\n",
    "- **Null Hypothesis (H0)**: The average height of the plants is 10 cm.\n",
    "- **Alternative Hypothesis (H1)**: The average height of the plants is not 10 cm.\n",
    "\n",
    "You collect a sample of 30 plants and find that the average height is 12 cm with a standard deviation of 3 cm. You perform a Z-test and find that your Z-score is 2. \n",
    "\n",
    "Now, you want to find the p-value associated with this Z-score. The p-value is the probability of observing a Z-score as extreme as 2 or more extreme, assuming the null hypothesis is true. \n",
    "\n",
    "If you look up this Z-score in a standard normal distribution table or use statistical software, you might find that the p-value is approximately 0.0455. **This means that if the true population mean were 10 cm (as stated in your null hypothesis), there would be about a 4.55% chance of getting a sample mean of 12 cm or more extreme by random chance alone.** \n",
    "\n",
    "What is the probability of a population with a mean 10 producing a sample which has a mean 12 assuming that the population mean is 10(which is also the null hypothesis) this is what p value tells us \n",
    "\n",
    "\n",
    "Since this p-value (0.0455) is less than the commonly used significance level of 0.05, you would reject the null hypothesis and conclude that there's significant evidence to suggest that the average height of these plants is not 10 cm.\n",
    "\n",
    "Remember, this doesn't prove that the average height is 12 cm (our sample mean), just that it's likely not 10 cm. Also, there's still a 4.55% chance that we could have gotten these results by random chance even if the null hypothesis were true."
   ]
  },
  {
   "cell_type": "code",
   "execution_count": null,
   "id": "701afeae",
   "metadata": {},
   "outputs": [],
   "source": []
  }
 ],
 "metadata": {
  "kernelspec": {
   "display_name": "Python 3 (ipykernel)",
   "language": "python",
   "name": "python3"
  },
  "language_info": {
   "codemirror_mode": {
    "name": "ipython",
    "version": 3
   },
   "file_extension": ".py",
   "mimetype": "text/x-python",
   "name": "python",
   "nbconvert_exporter": "python",
   "pygments_lexer": "ipython3",
   "version": "3.9.12"
  }
 },
 "nbformat": 4,
 "nbformat_minor": 5
}
